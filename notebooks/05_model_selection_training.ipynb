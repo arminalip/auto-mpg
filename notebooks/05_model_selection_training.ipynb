{
 "cells": [
  {
   "cell_type": "code",
   "execution_count": 121,
   "metadata": {},
   "outputs": [],
   "source": [
    "import os\n",
    "import pandas as pd\n",
    "import numpy as np\n",
    "import matplotlib.pyplot as plt\n",
    "from matplotlib.legend_handler import HandlerLine2D\n",
    "\n",
    "plt.style.use('classic')\n",
    "%matplotlib inline\n",
    "import seaborn as sns\n",
    "sns.set_style('whitegrid')\n",
    "sns.set(rc={'figure.figsize':(8,5)})\n",
    "\n",
    "\n",
    "from sklearn.model_selection import train_test_split\n",
    "# for nice dark theme in Jupyter Notebooks\n",
    "from jupyterthemes import jtplot\n",
    "jtplot.style(theme='monokai', context='notebook', ticks=True, grid=False)\n",
    "import warnings\n",
    "warnings.filterwarnings('once')\n",
    "\n",
    "from time import time\n",
    "from scipy.stats import randint as sp_randint\n",
    "\n",
    "from sklearn.ensemble import RandomForestRegressor\n",
    "from sklearn.model_selection import train_test_split, RandomizedSearchCV, GridSearchCV\n",
    "from sklearn.metrics import r2_score, make_scorer, mean_squared_error\n",
    "from src.features.build_features import make_final_train_set"
   ]
  },
  {
   "cell_type": "code",
   "execution_count": 2,
   "metadata": {},
   "outputs": [],
   "source": [
    "%load_ext autoreload\n",
    "%autoreload 2"
   ]
  },
  {
   "cell_type": "code",
   "execution_count": 3,
   "metadata": {},
   "outputs": [
    {
     "name": "stderr",
     "output_type": "stream",
     "text": [
      "/Users/Corentin/anaconda3/envs/auto-mpg/lib/python3.6/site-packages/sklearn/utils/validation.py:595: DataConversionWarning: Data with input dtype int64 was converted to float64 by StandardScaler.\n",
      "  warnings.warn(msg, DataConversionWarning)\n",
      "/Users/Corentin/anaconda3/envs/auto-mpg/lib/python3.6/site-packages/sklearn/utils/validation.py:595: DataConversionWarning: Data with input dtype int64 was converted to float64 by StandardScaler.\n",
      "  warnings.warn(msg, DataConversionWarning)\n"
     ]
    }
   ],
   "source": [
    "column_names, full_pipeline, df_train = make_final_train_set()\n",
    "X_train = df_train.drop('mpg', axis=1)\n",
    "y_train = df_train['mpg']"
   ]
  },
  {
   "cell_type": "code",
   "execution_count": 5,
   "metadata": {},
   "outputs": [],
   "source": [
    "# Utility function to report best scores\n",
    "def report(results, n_top=3):\n",
    "    for i in range(1, n_top + 1):\n",
    "        candidates = np.flatnonzero(results['rank_test_score'] == i)\n",
    "        for candidate in candidates:\n",
    "            print(\"Model with rank: {0}\".format(i))\n",
    "            print(\"Mean validation score: {0:.3f} (std: {1:.3f})\".format(\n",
    "                  results['mean_test_score'][candidate],\n",
    "                  results['std_test_score'][candidate]))\n",
    "            print(\"Parameters: {0}\".format(results['params'][candidate]))\n",
    "            print(\"\")"
   ]
  },
  {
   "cell_type": "markdown",
   "metadata": {},
   "source": [
    "RandomizedSearchCV is a good alternative for model selection anf hyperparameter tuning. RandomisedSearchCV yields to the same results as GridSearchCV in a fraction of time of what would take GridSearchCV. [[Bergstra-Bengio-2013]](http://www.jmlr.org/papers/volume13/bergstra12a/bergstra12a.pdf)\n"
   ]
  },
  {
   "cell_type": "code",
   "execution_count": 99,
   "metadata": {},
   "outputs": [
    {
     "name": "stdout",
     "output_type": "stream",
     "text": [
      "Fitting 5 folds for each of 100 candidates, totalling 500 fits\n"
     ]
    },
    {
     "name": "stderr",
     "output_type": "stream",
     "text": [
      "[Parallel(n_jobs=-1)]: Using backend LokyBackend with 4 concurrent workers.\n",
      "[Parallel(n_jobs=-1)]: Done  42 tasks      | elapsed:    4.9s\n",
      "[Parallel(n_jobs=-1)]: Done 192 tasks      | elapsed:   20.5s\n",
      "[Parallel(n_jobs=-1)]: Done 442 tasks      | elapsed:   48.3s\n"
     ]
    },
    {
     "name": "stdout",
     "output_type": "stream",
     "text": [
      "RandomizedSearchCV took 54.94 seconds for 100 candidates\n"
     ]
    },
    {
     "name": "stderr",
     "output_type": "stream",
     "text": [
      "[Parallel(n_jobs=-1)]: Done 500 out of 500 | elapsed:   54.7s finished\n"
     ]
    }
   ],
   "source": [
    "rf = RandomForestRegressor(random_state=42, n_estimators=100, n_jobs=-1)\n",
    "param_dist = {'max_depth' : [3, None],\n",
    "              'max_features': sp_randint(1, X_train.shape[1]+1),\n",
    "              'min_samples_split': sp_randint(2, 11),\n",
    "              'bootstrap' : [True, False],\n",
    "              }\n",
    "n_iter_search = 100\n",
    "rf_random_search = RandomizedSearchCV(rf,\n",
    "                                      param_distributions=param_dist,\n",
    "                                      n_iter=n_iter_search,\n",
    "                                      cv=5,\n",
    "                                      iid=False,\n",
    "                                      return_train_score=True,\n",
    "                                      verbose=True,\n",
    "                                      random_state=42,\n",
    "                                      n_jobs=-1)\n",
    "\n",
    "start = time()\n",
    "rf_random_search.fit(X_train, y_train)\n",
    "print('RandomizedSearchCV took {:.2f} seconds for {:d} candidates'.format(time()-start,\n",
    "                                                                          n_iter_search))\n",
    "#report(rf_random_search)\n"
   ]
  },
  {
   "cell_type": "code",
   "execution_count": 102,
   "metadata": {},
   "outputs": [
    {
     "name": "stdout",
     "output_type": "stream",
     "text": [
      "Best model scores\n",
      "Mean validation score: 0.857 (std: 0.036)\n",
      "Mean train score: 0.981 (std: 0.001)\n"
     ]
    }
   ],
   "source": [
    "def report_best_scores(results):\n",
    "    best_model= np.flatnonzero(results['rank_test_score'] == 1)[0]\n",
    "    print('Best model scores')\n",
    "    print('Mean validation score: {:.3f} (std: {:.3f})'.format(\n",
    "            results['mean_test_score'][best_model],\n",
    "            results['std_test_score'][best_model]))\n",
    "    print('Mean train score: {:.3f} (std: {:.3f})'.format(\n",
    "            results['mean_train_score'][best_model],\n",
    "            results['std_train_score'][best_model]))\n",
    "report_best_scores(rf_random_search.cv_results_)"
   ]
  },
  {
   "cell_type": "markdown",
   "metadata": {},
   "source": [
    "The best model found by RandomizedSearch seems to overfit the model. One thing we could decrese is the `max_depth` the trees can take."
   ]
  },
  {
   "cell_type": "markdown",
   "metadata": {},
   "source": [
    "### Feature importance scores "
   ]
  },
  {
   "cell_type": "code",
   "execution_count": 87,
   "metadata": {},
   "outputs": [
    {
     "data": {
      "text/plain": [
       "[(0.25776580464491283, 'weight'),\n",
       " (0.23781674961093566, 'displacement'),\n",
       " (0.17490939094685762, 'cylinders'),\n",
       " (0.15039587647685848, 'horsepower'),\n",
       " (0.12853838953299357, 'year'),\n",
       " (0.035226693604944036, 'acceleration'),\n",
       " (0.010744051405629576, 'x0_USA'),\n",
       " (0.00460304377686836, 'x0_ASIA')]"
      ]
     },
     "execution_count": 87,
     "metadata": {},
     "output_type": "execute_result"
    }
   ],
   "source": [
    "importances = rf_random_search.best_estimator_.feature_importances_\n",
    "sorted(zip(feature_importances, X_train.columns), reverse=True)\n"
   ]
  },
  {
   "cell_type": "markdown",
   "metadata": {},
   "source": [
    "One Region category is important. We can keep USA category and drop ASIA."
   ]
  },
  {
   "cell_type": "markdown",
   "metadata": {},
   "source": [
    "### Reduce overfitting"
   ]
  },
  {
   "cell_type": "markdown",
   "metadata": {},
   "source": [
    "RandomsSeachCV tries to maxize the validation score without counting for overfitting.\n",
    "This is way for the best selected model we have a high training score.\n",
    "\n",
    "One way to reduce overfitting is to limit the depth of the trees.\n",
    "\n",
    "In this section, we will find the optimal `max_depth` parameter to reduce overfitting.\n",
    "We'll start from the best hyperparameters found by RandomSearchCV."
   ]
  },
  {
   "cell_type": "code",
   "execution_count": 119,
   "metadata": {},
   "outputs": [
    {
     "data": {
      "text/plain": [
       "GridSearchCV(cv=5, error_score='raise-deprecating',\n",
       "       estimator=RandomForestRegressor(bootstrap=True, criterion='mse', max_depth=None,\n",
       "           max_features=3, max_leaf_nodes=None, min_impurity_decrease=0.0,\n",
       "           min_impurity_split=None, min_samples_leaf=1,\n",
       "           min_samples_split=2, min_weight_fraction_leaf=0.0,\n",
       "           n_estimators=100, n_jobs=-1, oob_score=False, random_state=42,\n",
       "           verbose=0, warm_start=False),\n",
       "       fit_params=None, iid='warn', n_jobs=-1,\n",
       "       param_grid={'max_depth': array([ 1.,  2.,  3.,  4.,  5.,  6.,  7.,  8.,  9., 10., 11., 12., 13.,\n",
       "       14., 15., 16., 17., 18., 19., 20., 21., 22., 23., 24., 25., 26.,\n",
       "       27., 28., 29., 30., 31., 32., 33., 34., 35., 36., 37., 38., 39.,\n",
       "       40., 41., 42., 43., 44., 45., 46., 47., 48., 49., 50.])},\n",
       "       pre_dispatch='2*n_jobs', refit=True, return_train_score='warn',\n",
       "       scoring=None, verbose=0)"
      ]
     },
     "execution_count": 119,
     "metadata": {},
     "output_type": "execute_result"
    }
   ],
   "source": [
    "rf = RandomForestRegressor(n_estimators=100,\n",
    "                           bootstrap=True,\n",
    "                           max_features=3,\n",
    "                           min_samples_split=2,\n",
    "                           random_state=42,\n",
    "                           n_jobs=-1)\n",
    "max_depths = np.linspace(1, 50, 50, endpoint=True)\n",
    "\n",
    "params = {'max_depth':max_depths}\n",
    "\n",
    "rf_cv = GridSearchCV(estimator=rf,\n",
    "                     param_grid=params,\n",
    "                     cv=5,\n",
    "                     n_jobs=-1)  \n",
    "rf_cv.fit(X_train, y_train)"
   ]
  },
  {
   "cell_type": "code",
   "execution_count": 134,
   "metadata": {},
   "outputs": [
    {
     "data": {
      "image/png": "[encoded data removed]",
      "text/plain": [
       "<Figure size 576x504 with 1 Axes>"
      ]
     },
     "metadata": {},
     "output_type": "display_data"
    }
   ],
   "source": [
    "validation_scores = rf_cv.cv_results_['mean_test_score']\n",
    "train_scores = rf_cv.cv_results_['mean_train_score']\n",
    "\n",
    "line1, = plt.plot(max_depths, train_scores, 'b', label='Train R2')\n",
    "line2, = plt.plot(max_depths, validation_scores, 'r', label= 'Validation R2')\n",
    "\n",
    "plt.legend(handler_map={line1: HandlerLine2D(numpoints=2)})\n",
    "plt.xticks(np.arange(min(max_depths), max(max_depths)+1, 4.0))\n",
    "plt.ylabel('R2 score')\n",
    "plt.xlabel('Tree depth')\n",
    "plt.grid(True)\n",
    "sns.despine()"
   ]
  },
  {
   "cell_type": "markdown",
   "metadata": {},
   "source": [
    "For `max_depth` of `5`:\n",
    "- validation score is about `0.844` \n",
    "- training score is about `0.932`.\n",
    "\n",
    "This is a good compromise to avoid overfitting the training set."
   ]
  },
  {
   "cell_type": "markdown",
   "metadata": {},
   "source": [
    "## Model Training "
   ]
  },
  {
   "cell_type": "code",
   "execution_count": 135,
   "metadata": {},
   "outputs": [
    {
     "data": {
      "text/plain": [
       "RandomForestRegressor(bootstrap=True, criterion='mse', max_depth=5,\n",
       "           max_features=3, max_leaf_nodes=None, min_impurity_decrease=0.0,\n",
       "           min_impurity_split=None, min_samples_leaf=1,\n",
       "           min_samples_split=2, min_weight_fraction_leaf=0.0,\n",
       "           n_estimators=100, n_jobs=-1, oob_score=False, random_state=42,\n",
       "           verbose=0, warm_start=False)"
      ]
     },
     "execution_count": 135,
     "metadata": {},
     "output_type": "execute_result"
    }
   ],
   "source": [
    "rf = RandomForestRegressor(max_depth=5,\n",
    "                           n_estimators=100,\n",
    "                           bootstrap=True,\n",
    "                           max_features=3,\n",
    "                           min_samples_split=2,\n",
    "                           random_state=42,\n",
    "                           n_jobs=-1)\n",
    "rf.fit(X_train, y_train)"
   ]
  }
 ],
 "metadata": {
  "kernelspec": {
   "display_name": "Python 3",
   "language": "python",
   "name": "python3"
  },
  "language_info": {
   "codemirror_mode": {
    "name": "ipython",
    "version": 3
   },
   "file_extension": ".py",
   "mimetype": "text/x-python",
   "name": "python",
   "nbconvert_exporter": "python",
   "pygments_lexer": "ipython3",
   "version": "3.6.9"
  }
 },
 "nbformat": 4,
 "nbformat_minor": 2
}
