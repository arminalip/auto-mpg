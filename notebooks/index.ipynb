{
 "cells": [
  {
   "cell_type": "markdown",
   "metadata": {},
   "source": [
    "# Car Miles per Gallon Prediction\n",
    "\n",
    "Browse the project notebooks using nbviewer. \n",
    "\n",
    "\n",
    "1. [Data Cleaning](https://nbviewer.jupyter.org/github/rachida-sgh/auto-mpg/blob/master/notebooks/01_data_cleaning.ipynb)\n",
    "2. [Exploratory Data Analysis](https://nbviewer.jupyter.org/github/rachida-sgh/auto-mpg/blob/master/notebooks/02_exploratory_data_analysis.ipynb)\n",
    "3. [Feature Engineering](https://nbviewer.jupyter.org/github/rachida-sgh/auto-mpg/blob/master/notebooks/03_feature_engineering.ipynb)\n",
    "4. [Algorithm Selection](https://nbviewer.jupyter.org/github/rachida-sgh/auto-mpg/blob/master/notebooks/04_algo_selection.ipynb)\n",
    "5. [Model Selection and Training](https://nbviewer.jupyter.org/github/rachida-sgh/auto-mpg/blob/master/notebooks/05_model_selection_training.ipynb)\n",
    "6. [Model Evaluation](https://nbviewer.jupyter.org/github/rachida-sgh/auto-mpg/blob/master/notebooks/06_model_evaluation.ipynb)\n",
    "7. [Model Interpretation](https://nbviewer.jupyter.org/github/rachida-sgh/auto-mpg/blob/master/notebooks/07_model_interpretation.ipynb)\n"
   ]
  }
 ],
 "metadata": {
  "kernelspec": {
   "display_name": "Python 3",
   "language": "python",
   "name": "python3"
  },
  "language_info": {
   "codemirror_mode": {
    "name": "ipython",
    "version": 3
   },
   "file_extension": ".py",
   "mimetype": "text/x-python",
   "name": "python",
   "nbconvert_exporter": "python",
   "pygments_lexer": "ipython3",
   "version": "3.6.9"
  }
 },
 "nbformat": 4,
 "nbformat_minor": 2
}
