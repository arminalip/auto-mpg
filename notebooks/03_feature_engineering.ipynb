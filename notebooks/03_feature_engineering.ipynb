{
 "cells": [
  {
   "cell_type": "code",
   "execution_count": 3,
   "metadata": {},
   "outputs": [
    {
     "name": "stdout",
     "output_type": "stream",
     "text": [
      "The autoreload extension is already loaded. To reload it, use:\n",
      "  %reload_ext autoreload\n"
     ]
    }
   ],
   "source": [
    "import os\n",
    "# for nice dark theme in Jupyter Notebooks\n",
    "from jupyterthemes import jtplot\n",
    "jtplot.style(theme='monokai', context='notebook', ticks=True, grid=False)\n",
    "import warnings\n",
    "warnings.filterwarnings('once')\n",
    "\n",
    "import pandas as pd\n",
    "import numpy as np\n",
    "\n",
    "from sklearn.impute import SimpleImputer\n",
    "from sklearn.preprocessing import StandardScaler, OneHotEncoder\n",
    "from sklearn.pipeline import Pipeline\n",
    "from sklearn.compose import ColumnTransformer\n",
    "\n",
    "\n",
    "%load_ext autoreload\n",
    "%autoreload 2"
   ]
  },
  {
   "cell_type": "code",
   "execution_count": 7,
   "metadata": {},
   "outputs": [],
   "source": [
    "# Get intermediate cleaned data\n",
    "data_interim = '../data/interim/'\n",
    "train_data = 'df_train_cleaned.csv'\n",
    "df_train = pd.read_csv(os.path.join(data_interim, train_data))\n",
    "X_train = df_train.drop('mpg', axis=1)\n",
    "y_train = df_train['mpg']"
   ]
  },
  {
   "cell_type": "code",
   "execution_count": 11,
   "metadata": {},
   "outputs": [
    {
     "name": "stderr",
     "output_type": "stream",
     "text": [
      "/Users/Corentin/anaconda3/envs/auto-mpg/lib/python3.6/site-packages/sklearn/utils/validation.py:595: DataConversionWarning: Data with input dtype int64 was converted to float64 by StandardScaler.\n",
      "  warnings.warn(msg, DataConversionWarning)\n",
      "/Users/Corentin/anaconda3/envs/auto-mpg/lib/python3.6/site-packages/sklearn/utils/validation.py:595: DataConversionWarning: Data with input dtype int64 was converted to float64 by StandardScaler.\n",
      "  warnings.warn(msg, DataConversionWarning)\n"
     ]
    }
   ],
   "source": [
    "# Continous features\n",
    "continuous_features = ['displacement',\n",
    "                       'horsepower',\n",
    "                       'weight',\n",
    "                       'acceleration',]\n",
    "# Categorical features\n",
    "ordinal_features = ['cylinders',\n",
    "                    'year',]\n",
    "\n",
    "nominal_features = ['region']\n",
    "\n",
    "\n",
    "# Build transformation pipelines adapted to feature types\n",
    "cont_pipeline = Pipeline([\n",
    "    ('imputer_cont', SimpleImputer(strategy='median')),\n",
    "    ('std_scaler_cont', StandardScaler()),\n",
    "])\n",
    "\n",
    "ord_pipeline = Pipeline([\n",
    "    ('imputer_ord', SimpleImputer(strategy='most_frequent')),\n",
    "    ('std_scaler_ord', StandardScaler()),\n",
    "])\n",
    "\n",
    "full_pipeline = ColumnTransformer([\n",
    "    ('cont', cont_pipeline, continuous_features),\n",
    "    ('ord', ord_pipeline, ordinal_features),\n",
    "    ('nom', OneHotEncoder(), nominal_features),\n",
    "])\n",
    "\n",
    "X_train_processed_values = full_pipeline.fit_transform(X_train)\n",
    "\n",
    "# Add columns names to build the processed dataframe \n",
    "region_ohe_features = list(full_pipeline.named_transformers_['nom'].get_feature_names())\n",
    "column_names = continuous_features + ordinal_features + region_ohe_features\n",
    "X_train_processed = pd.DataFrame(X_train_processed_values, columns=column_names)\n",
    "# Drop one of the ohe features to limit correlations in the data set\n",
    "X_train_processed.drop('x0_EUROPE', axis=1, inplace=True)\n",
    "# Save the data\n",
    "X_train_processed.join(y_train).to_csv('../data/processed/df_train_processed.csv')"
   ]
  },
  {
   "cell_type": "code",
   "execution_count": null,
   "metadata": {},
   "outputs": [],
   "source": []
  }
 ],
 "metadata": {
  "kernelspec": {
   "display_name": "Python 3",
   "language": "python",
   "name": "python3"
  },
  "language_info": {
   "codemirror_mode": {
    "name": "ipython",
    "version": 3
   },
   "file_extension": ".py",
   "mimetype": "text/x-python",
   "name": "python",
   "nbconvert_exporter": "python",
   "pygments_lexer": "ipython3",
   "version": "3.6.9"
  }
 },
 "nbformat": 4,
 "nbformat_minor": 2
}
