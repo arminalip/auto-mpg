{
 "cells": [
  {
   "cell_type": "markdown",
   "metadata": {},
   "source": [
    "#  Model Selection and Training\n",
    "\n",
    "In the previous notebook, we selected the Random Forest algorithm. In this notebook, we will fine-tune the model using cross-validation and then train in on the whole training set.\n",
    "\n",
    "Random Forest is prone to overfitting, as we already noted during algorithm selection. We will use regularization to overcome this problem. "
   ]
  },
  {
   "cell_type": "code",
   "execution_count": 1,
   "metadata": {},
   "outputs": [
    {
     "data": {
      "application/javascript": [
       "\n",
       "            setTimeout(function() {\n",
       "                var nbb_cell_id = 1;\n",
       "                var nbb_formatted_code = \"# use black formatter\\n%load_ext nb_black\";\n",
       "                var nbb_cells = Jupyter.notebook.get_cells();\n",
       "                for (var i = 0; i < nbb_cells.length; ++i) {\n",
       "                    if (nbb_cells[i].input_prompt_number == nbb_cell_id) {\n",
       "                        nbb_cells[i].set_text(nbb_formatted_code);\n",
       "                        break;\n",
       "                    }\n",
       "                }\n",
       "            }, 500);\n",
       "            "
      ],
      "text/plain": [
       "<IPython.core.display.Javascript object>"
      ]
     },
     "metadata": {},
     "output_type": "display_data"
    }
   ],
   "source": [
    "# use black formatter\n",
    "%load_ext nb_black"
   ]
  },
  {
   "cell_type": "code",
   "execution_count": 2,
   "metadata": {},
   "outputs": [
    {
     "data": {
      "application/javascript": [
       "\n",
       "            setTimeout(function() {\n",
       "                var nbb_cell_id = 2;\n",
       "                var nbb_formatted_code = \"# reload module in development mode\\n%load_ext autoreload\\n%autoreload 2\";\n",
       "                var nbb_cells = Jupyter.notebook.get_cells();\n",
       "                for (var i = 0; i < nbb_cells.length; ++i) {\n",
       "                    if (nbb_cells[i].input_prompt_number == nbb_cell_id) {\n",
       "                        nbb_cells[i].set_text(nbb_formatted_code);\n",
       "                        break;\n",
       "                    }\n",
       "                }\n",
       "            }, 500);\n",
       "            "
      ],
      "text/plain": [
       "<IPython.core.display.Javascript object>"
      ]
     },
     "metadata": {},
     "output_type": "display_data"
    }
   ],
   "source": [
    "# reload module in development mode\n",
    "%load_ext autoreload\n",
    "%autoreload 2"
   ]
  },
  {
   "cell_type": "markdown",
   "metadata": {},
   "source": [
    "#### Load training set"
   ]
  },
  {
   "cell_type": "code",
   "execution_count": 3,
   "metadata": {},
   "outputs": [
    {
     "data": {
      "application/javascript": [
       "\n",
       "            setTimeout(function() {\n",
       "                var nbb_cell_id = 3;\n",
       "                var nbb_formatted_code = \"import pandas as pd\\n\\ndf_train = pd.read_pickle(\\\"../data/processed/train_processed.pkl\\\")\\nX_train = df_train.drop(\\\"mpg\\\", axis=1)\\ny_train = df_train[\\\"mpg\\\"]\";\n",
       "                var nbb_cells = Jupyter.notebook.get_cells();\n",
       "                for (var i = 0; i < nbb_cells.length; ++i) {\n",
       "                    if (nbb_cells[i].input_prompt_number == nbb_cell_id) {\n",
       "                        nbb_cells[i].set_text(nbb_formatted_code);\n",
       "                        break;\n",
       "                    }\n",
       "                }\n",
       "            }, 500);\n",
       "            "
      ],
      "text/plain": [
       "<IPython.core.display.Javascript object>"
      ]
     },
     "metadata": {},
     "output_type": "display_data"
    }
   ],
   "source": [
    "import pandas as pd\n",
    "\n",
    "df_train = pd.read_pickle(\"../data/processed/train_processed.pkl\")\n",
    "X_train = df_train.drop(\"mpg\", axis=1)\n",
    "y_train = df_train[\"mpg\"]"
   ]
  },
  {
   "cell_type": "markdown",
   "metadata": {},
   "source": [
    "## Hyperparameter finetuning "
   ]
  },
  {
   "cell_type": "markdown",
   "metadata": {},
   "source": [
    "RandomizedSearchCV is a good alternative for model selection and hyperparameter tuning. RandomisedSearchCV yields to the same results as GridSearchCV in a fraction of time of what would take GridSearchCV. [[Bergstra-Bengio-2013]](http://www.jmlr.org/papers/volume13/bergstra12a/bergstra12a.pdf)\n"
   ]
  },
  {
   "cell_type": "code",
   "execution_count": 4,
   "metadata": {},
   "outputs": [
    {
     "name": "stdout",
     "output_type": "stream",
     "text": [
      "Fitting 5 folds for each of 100 candidates, totalling 500 fits\n"
     ]
    },
    {
     "name": "stderr",
     "output_type": "stream",
     "text": [
      "[Parallel(n_jobs=-1)]: Using backend LokyBackend with 4 concurrent workers.\n",
      "[Parallel(n_jobs=-1)]: Done  42 tasks      | elapsed:   14.6s\n",
      "[Parallel(n_jobs=-1)]: Done 192 tasks      | elapsed:   37.3s\n",
      "[Parallel(n_jobs=-1)]: Done 442 tasks      | elapsed:  1.2min\n",
      "[Parallel(n_jobs=-1)]: Done 500 out of 500 | elapsed:  1.4min finished\n"
     ]
    },
    {
     "name": "stdout",
     "output_type": "stream",
     "text": [
      "Best model scores\n",
      "Mean validation RMSE: 3.013 (std: 1.635)\n",
      "Mean train RMSE: 1.490 (std: 0.453)\n"
     ]
    },
    {
     "data": {
      "application/javascript": [
       "\n",
       "            setTimeout(function() {\n",
       "                var nbb_cell_id = 4;\n",
       "                var nbb_formatted_code = \"from scipy.stats import randint as sp_randint\\nfrom sklearn.ensemble import RandomForestRegressor\\nfrom sklearn.model_selection import RandomizedSearchCV\\nfrom sklearn.metrics import make_scorer, mean_squared_error\\nfrom src.train import report_best_cv_scores\\n\\nrf = RandomForestRegressor(random_state=42, n_estimators=100, n_jobs=-1)\\nparam_dist = {\\n    \\\"max_depth\\\": [3, None],\\n    \\\"max_features\\\": sp_randint(2, X_train.shape[1] + 1),\\n    \\\"min_samples_split\\\": sp_randint(2, 10),\\n    \\\"bootstrap\\\": [True, False],\\n}\\n# RandomizedSearchCV maximizses the scores so we use negative mean squared error\\nneg_mse = make_scorer(mean_squared_error, greater_is_better=False)\\nn_iter_search = 100\\nrf_random_search = RandomizedSearchCV(\\n    rf,\\n    param_distributions=param_dist,\\n    n_iter=n_iter_search,\\n    cv=5,\\n    scoring=neg_mse,\\n    iid=False,\\n    return_train_score=True,\\n    verbose=True,\\n    random_state=42,\\n    n_jobs=-1,\\n)\\n\\nrf_random_search.fit(X_train, y_train)\\n\\nreport_best_cv_scores(rf_random_search.cv_results_)\";\n",
       "                var nbb_cells = Jupyter.notebook.get_cells();\n",
       "                for (var i = 0; i < nbb_cells.length; ++i) {\n",
       "                    if (nbb_cells[i].input_prompt_number == nbb_cell_id) {\n",
       "                        nbb_cells[i].set_text(nbb_formatted_code);\n",
       "                        break;\n",
       "                    }\n",
       "                }\n",
       "            }, 500);\n",
       "            "
      ],
      "text/plain": [
       "<IPython.core.display.Javascript object>"
      ]
     },
     "metadata": {},
     "output_type": "display_data"
    }
   ],
   "source": [
    "from scipy.stats import randint as sp_randint\n",
    "from sklearn.ensemble import RandomForestRegressor\n",
    "from sklearn.model_selection import RandomizedSearchCV\n",
    "from sklearn.metrics import make_scorer, mean_squared_error\n",
    "from src.train import report_best_cv_scores\n",
    "\n",
    "rf = RandomForestRegressor(random_state=42, n_estimators=100, n_jobs=-1)\n",
    "param_dist = {\n",
    "    \"max_depth\": [3, None],\n",
    "    \"max_features\": sp_randint(2, X_train.shape[1] + 1),\n",
    "    \"min_samples_split\": sp_randint(2, 10),\n",
    "    \"bootstrap\": [True, False],\n",
    "}\n",
    "# RandomizedSearchCV maximizses the scores so we use negative mean squared error\n",
    "neg_mse = make_scorer(mean_squared_error, greater_is_better=False)\n",
    "n_iter_search = 100\n",
    "rf_random_search = RandomizedSearchCV(\n",
    "    rf,\n",
    "    param_distributions=param_dist,\n",
    "    n_iter=n_iter_search,\n",
    "    cv=5,\n",
    "    scoring=neg_mse,\n",
    "    iid=False,\n",
    "    return_train_score=True,\n",
    "    verbose=True,\n",
    "    random_state=42,\n",
    "    n_jobs=-1,\n",
    ")\n",
    "\n",
    "rf_random_search.fit(X_train, y_train)\n",
    "\n",
    "report_best_cv_scores(rf_random_search.cv_results_)"
   ]
  },
  {
   "cell_type": "markdown",
   "metadata": {},
   "source": [
    "#### Best parameters returned by RandomizedSearchCV"
   ]
  },
  {
   "cell_type": "code",
   "execution_count": 6,
   "metadata": {},
   "outputs": [
    {
     "data": {
      "text/plain": [
       "{'bootstrap': True,\n",
       " 'max_depth': None,\n",
       " 'max_features': 3,\n",
       " 'min_samples_split': 5}"
      ]
     },
     "execution_count": 6,
     "metadata": {},
     "output_type": "execute_result"
    },
    {
     "data": {
      "application/javascript": [
       "\n",
       "            setTimeout(function() {\n",
       "                var nbb_cell_id = 6;\n",
       "                var nbb_formatted_code = \"rf_random_search.best_params_\";\n",
       "                var nbb_cells = Jupyter.notebook.get_cells();\n",
       "                for (var i = 0; i < nbb_cells.length; ++i) {\n",
       "                    if (nbb_cells[i].input_prompt_number == nbb_cell_id) {\n",
       "                        nbb_cells[i].set_text(nbb_formatted_code);\n",
       "                        break;\n",
       "                    }\n",
       "                }\n",
       "            }, 500);\n",
       "            "
      ],
      "text/plain": [
       "<IPython.core.display.Javascript object>"
      ]
     },
     "metadata": {},
     "output_type": "display_data"
    }
   ],
   "source": [
    "rf_random_search.best_params_"
   ]
  },
  {
   "cell_type": "markdown",
   "metadata": {},
   "source": [
    "The best model found by RandomizedSearch is overfitting the training set. Here is where regularization comes in handy."
   ]
  },
  {
   "cell_type": "markdown",
   "metadata": {},
   "source": [
    "## Regularization\n",
    "\n",
    "\n",
    "RandomsSeachCV tries to maximize the validation without taking care of overfitting.\n",
    "The best model given by RandomSearch is simply the model with the lowest validation error.\n",
    "\n",
    "One way to reduce overfitting of Random Forest is to limit the depth of the trees.\n",
    "\n",
    "In this section, we will find the optimal `max_depth` parameter to reduce overfitting.\n",
    "We start from the best hyperparameters found by RandomSearchCV and use learning curves to find the optimal value for `max_depth`.\n"
   ]
  },
  {
   "cell_type": "markdown",
   "metadata": {},
   "source": [
    "### Learning curves"
   ]
  },
  {
   "cell_type": "code",
   "execution_count": 7,
   "metadata": {},
   "outputs": [
    {
     "name": "stdout",
     "output_type": "stream",
     "text": [
      "Fitting 5 folds for each of 50 candidates, totalling 250 fits\n"
     ]
    },
    {
     "name": "stderr",
     "output_type": "stream",
     "text": [
      "[Parallel(n_jobs=-1)]: Using backend LokyBackend with 4 concurrent workers.\n",
      "[Parallel(n_jobs=-1)]: Done  42 tasks      | elapsed:   14.6s\n",
      "[Parallel(n_jobs=-1)]: Done 192 tasks      | elapsed:   29.5s\n",
      "[Parallel(n_jobs=-1)]: Done 250 out of 250 | elapsed:   35.3s finished\n"
     ]
    },
    {
     "name": "stdout",
     "output_type": "stream",
     "text": [
      "Validation RMSE: 3.080\n",
      "Train RMSE: 1.668\n"
     ]
    },
    {
     "data": {
      "application/javascript": [
       "\n",
       "            setTimeout(function() {\n",
       "                var nbb_cell_id = 7;\n",
       "                var nbb_formatted_code = \"import numpy as np\\nfrom sklearn.model_selection import GridSearchCV\\n\\nrf = RandomForestRegressor(\\n    n_estimators=100,\\n    bootstrap=True,\\n    max_features=3,\\n    min_samples_split=5,\\n    n_jobs=-1,\\n    random_state=42,\\n)\\n\\nmax_depths = np.arange(1, 51, 1, dtype=int)\\nparams = {\\\"max_depth\\\": max_depths}\\n\\nrf_cv = GridSearchCV(\\n    estimator=rf,\\n    param_grid=params,\\n    cv=5,\\n    n_jobs=-1,\\n    verbose=1,\\n    scoring=neg_mse,\\n    return_train_score=True,\\n    iid=False,\\n)\\n\\nrf_cv.fit(X_train, y_train)\\n\\n# get training and validation scores\\nvalidation_scores = -rf_cv.cv_results_[\\\"mean_test_score\\\"]\\ntrain_scores = -rf_cv.cv_results_[\\\"mean_train_score\\\"]\\n\\nprint(\\\"Validation RMSE: {:.3f}\\\".format(np.sqrt(validation_scores).mean()))\\nprint(\\\"Train RMSE: {:.3f}\\\".format(np.sqrt(train_scores).mean()))\";\n",
       "                var nbb_cells = Jupyter.notebook.get_cells();\n",
       "                for (var i = 0; i < nbb_cells.length; ++i) {\n",
       "                    if (nbb_cells[i].input_prompt_number == nbb_cell_id) {\n",
       "                        nbb_cells[i].set_text(nbb_formatted_code);\n",
       "                        break;\n",
       "                    }\n",
       "                }\n",
       "            }, 500);\n",
       "            "
      ],
      "text/plain": [
       "<IPython.core.display.Javascript object>"
      ]
     },
     "metadata": {},
     "output_type": "display_data"
    }
   ],
   "source": [
    "import numpy as np\n",
    "from sklearn.model_selection import GridSearchCV\n",
    "\n",
    "rf = RandomForestRegressor(\n",
    "    n_estimators=100,\n",
    "    bootstrap=True,\n",
    "    max_features=3,\n",
    "    min_samples_split=5,\n",
    "    n_jobs=-1,\n",
    "    random_state=42,\n",
    ")\n",
    "\n",
    "max_depths = np.arange(1, 51, 1, dtype=int)\n",
    "params = {\"max_depth\": max_depths}\n",
    "\n",
    "rf_cv = GridSearchCV(\n",
    "    estimator=rf,\n",
    "    param_grid=params,\n",
    "    cv=5,\n",
    "    n_jobs=-1,\n",
    "    verbose=1,\n",
    "    scoring=neg_mse,\n",
    "    return_train_score=True,\n",
    "    iid=False,\n",
    ")\n",
    "\n",
    "rf_cv.fit(X_train, y_train)\n",
    "\n",
    "# get training and validation scores\n",
    "validation_scores = -rf_cv.cv_results_[\"mean_test_score\"]\n",
    "train_scores = -rf_cv.cv_results_[\"mean_train_score\"]\n",
    "\n",
    "print(\"Validation RMSE: {:.3f}\".format(np.sqrt(validation_scores).mean()))\n",
    "print(\"Train RMSE: {:.3f}\".format(np.sqrt(train_scores).mean()))"
   ]
  },
  {
   "cell_type": "markdown",
   "metadata": {},
   "source": [
    "#### Plot learning curves\n",
    "For the visualization, we use Mean Squared Error (MSE) because it symply accessed from the results of GridSearchCV. It is the same as RMSE.  "
   ]
  },
  {
   "cell_type": "code",
   "execution_count": 8,
   "metadata": {},
   "outputs": [
    {
     "data": {
      "image/png": "[encoded data removed]",
      "text/plain": [
       "<Figure size 720x576 with 1 Axes>"
      ]
     },
     "metadata": {},
     "output_type": "display_data"
    },
    {
     "data": {
      "application/javascript": [
       "\n",
       "            setTimeout(function() {\n",
       "                var nbb_cell_id = 8;\n",
       "                var nbb_formatted_code = \"# Imports for vizualisation\\nimport matplotlib.pyplot as plt\\n\\nplt.style.use(\\\"fivethirtyeight\\\")\\n%matplotlib inline\\nimport seaborn as sns\\n\\nsns.set(font_scale=1.5)\\n# Internal ipython tool for setting figure size\\nfrom IPython.core.pylabtools import figsize\\n\\nfigsize(10, 8)\\nplt.plot(max_depths, train_scores, \\\"b\\\", label=\\\"Train MSE\\\")\\nplt.plot(max_depths, validation_scores, \\\"r\\\", label=\\\"Validation MSE\\\")\\nplt.xticks(np.arange(min(max_depths), max(max_depths) + 1, 4.0))\\nplt.ylabel(\\\"Mean Squared Error\\\")\\nplt.xlabel(\\\"Tree Depth\\\")\\nplt.grid(True)\\nplt.title(\\\"Learning Curves: MSE vs Tree Depth\\\")\\nplt.legend()\\nsns.despine()\";\n",
       "                var nbb_cells = Jupyter.notebook.get_cells();\n",
       "                for (var i = 0; i < nbb_cells.length; ++i) {\n",
       "                    if (nbb_cells[i].input_prompt_number == nbb_cell_id) {\n",
       "                        nbb_cells[i].set_text(nbb_formatted_code);\n",
       "                        break;\n",
       "                    }\n",
       "                }\n",
       "            }, 500);\n",
       "            "
      ],
      "text/plain": [
       "<IPython.core.display.Javascript object>"
      ]
     },
     "metadata": {},
     "output_type": "display_data"
    }
   ],
   "source": [
    "# Imports for vizualisation\n",
    "import matplotlib.pyplot as plt\n",
    "\n",
    "plt.style.use(\"fivethirtyeight\")\n",
    "%matplotlib inline\n",
    "import seaborn as sns\n",
    "\n",
    "sns.set(font_scale=1.5)\n",
    "# Internal ipython tool for setting figure size\n",
    "from IPython.core.pylabtools import figsize\n",
    "\n",
    "figsize(10, 8)\n",
    "plt.plot(max_depths, train_scores, \"b\", label=\"Train MSE\")\n",
    "plt.plot(max_depths, validation_scores, \"r\", label=\"Validation MSE\")\n",
    "plt.xticks(np.arange(min(max_depths), max(max_depths) + 1, 4.0))\n",
    "plt.ylabel(\"Mean Squared Error\")\n",
    "plt.xlabel(\"Tree Depth\")\n",
    "plt.grid(True)\n",
    "plt.title(\"Learning Curves: MSE vs Tree Depth\")\n",
    "plt.legend()\n",
    "sns.despine()"
   ]
  },
  {
   "cell_type": "markdown",
   "metadata": {},
   "source": [
    "We want to minimize the gap between training error and validation error. From the graphic, we can see that `max_depth` of 5 is a good value. \n",
    "Even it does not minimize the error on the validation set, it minimizes overfiting and will probably generalize better to unseen data. "
   ]
  },
  {
   "cell_type": "code",
   "execution_count": 9,
   "metadata": {},
   "outputs": [
    {
     "data": {
      "text/plain": [
       "{'max_depth': 13}"
      ]
     },
     "execution_count": 9,
     "metadata": {},
     "output_type": "execute_result"
    },
    {
     "data": {
      "application/javascript": [
       "\n",
       "            setTimeout(function() {\n",
       "                var nbb_cell_id = 9;\n",
       "                var nbb_formatted_code = \"rf_cv.best_params_\";\n",
       "                var nbb_cells = Jupyter.notebook.get_cells();\n",
       "                for (var i = 0; i < nbb_cells.length; ++i) {\n",
       "                    if (nbb_cells[i].input_prompt_number == nbb_cell_id) {\n",
       "                        nbb_cells[i].set_text(nbb_formatted_code);\n",
       "                        break;\n",
       "                    }\n",
       "                }\n",
       "            }, 500);\n",
       "            "
      ],
      "text/plain": [
       "<IPython.core.display.Javascript object>"
      ]
     },
     "metadata": {},
     "output_type": "display_data"
    }
   ],
   "source": [
    "rf_cv.best_params_"
   ]
  },
  {
   "cell_type": "markdown",
   "metadata": {},
   "source": [
    "As we stated previously, for GridSearch the best values for parameters are the ones that minimize errors on the validation set. Here, it is `max_depth` of 13."
   ]
  },
  {
   "cell_type": "markdown",
   "metadata": {},
   "source": [
    "## Model Training "
   ]
  },
  {
   "cell_type": "markdown",
   "metadata": {},
   "source": [
    "Finally, we train the selected model on the entire training set.\n",
    "We also drop the feature Asia from the training set. "
   ]
  },
  {
   "cell_type": "code",
   "execution_count": 10,
   "metadata": {},
   "outputs": [
    {
     "name": "stdout",
     "output_type": "stream",
     "text": [
      "Training the Random Forest took 0.16 seconds\n"
     ]
    },
    {
     "data": {
      "application/javascript": [
       "\n",
       "            setTimeout(function() {\n",
       "                var nbb_cell_id = 10;\n",
       "                var nbb_formatted_code = \"from time import time\\n\\nrf = RandomForestRegressor(\\n    max_depth=5,\\n    n_estimators=100,\\n    bootstrap=True,\\n    max_features=3,\\n    min_samples_split=5,\\n    random_state=42,\\n    n_jobs=-1,\\n)\\n\\nstart = time()\\nrf.fit(X_train.drop(\\\"x0_ASIA\\\", axis=1), y_train)\\nprint(\\n    \\\"Training the Random Forest took {:.2f} seconds\\\".format(\\n        time() - start, n_iter_search\\n    )\\n)\";\n",
       "                var nbb_cells = Jupyter.notebook.get_cells();\n",
       "                for (var i = 0; i < nbb_cells.length; ++i) {\n",
       "                    if (nbb_cells[i].input_prompt_number == nbb_cell_id) {\n",
       "                        nbb_cells[i].set_text(nbb_formatted_code);\n",
       "                        break;\n",
       "                    }\n",
       "                }\n",
       "            }, 500);\n",
       "            "
      ],
      "text/plain": [
       "<IPython.core.display.Javascript object>"
      ]
     },
     "metadata": {},
     "output_type": "display_data"
    }
   ],
   "source": [
    "from time import time\n",
    "\n",
    "rf = RandomForestRegressor(\n",
    "    max_depth=5,\n",
    "    n_estimators=100,\n",
    "    bootstrap=True,\n",
    "    max_features=3,\n",
    "    min_samples_split=5,\n",
    "    random_state=42,\n",
    "    n_jobs=-1,\n",
    ")\n",
    "\n",
    "start = time()\n",
    "rf.fit(X_train.drop(\"x0_ASIA\", axis=1), y_train)\n",
    "print(\n",
    "    \"Training the Random Forest took {:.2f} seconds\".format(\n",
    "        time() - start, n_iter_search\n",
    "    )\n",
    ")"
   ]
  },
  {
   "cell_type": "markdown",
   "metadata": {},
   "source": [
    "#### Save the trained model "
   ]
  },
  {
   "cell_type": "code",
   "execution_count": 11,
   "metadata": {},
   "outputs": [
    {
     "name": "stdout",
     "output_type": "stream",
     "text": [
      "RandomizedSearchCV took 3.15 seconds for 100 candidates\n"
     ]
    },
    {
     "data": {
      "application/javascript": [
       "\n",
       "            setTimeout(function() {\n",
       "                var nbb_cell_id = 11;\n",
       "                var nbb_formatted_code = \"import pickle\\n\\nprint(\\n    \\\"RandomizedSearchCV took {:.2f} seconds for {:d} candidates\\\".format(\\n        time() - start, n_iter_search\\n    )\\n)\\nwith open(\\\"../models/pickle_random_forest.pkl\\\", \\\"wb\\\") as f:\\n    pickle.dump(rf, f)\";\n",
       "                var nbb_cells = Jupyter.notebook.get_cells();\n",
       "                for (var i = 0; i < nbb_cells.length; ++i) {\n",
       "                    if (nbb_cells[i].input_prompt_number == nbb_cell_id) {\n",
       "                        nbb_cells[i].set_text(nbb_formatted_code);\n",
       "                        break;\n",
       "                    }\n",
       "                }\n",
       "            }, 500);\n",
       "            "
      ],
      "text/plain": [
       "<IPython.core.display.Javascript object>"
      ]
     },
     "metadata": {},
     "output_type": "display_data"
    }
   ],
   "source": [
    "import pickle\n",
    "\n",
    "print(\n",
    "    \"RandomizedSearchCV took {:.2f} seconds for {:d} candidates\".format(\n",
    "        time() - start, n_iter_search\n",
    "    )\n",
    ")\n",
    "with open(\"../models/pickle_random_forest.pkl\", \"wb\") as f:\n",
    "    pickle.dump(rf, f)"
   ]
  }
 ],
 "metadata": {
  "kernelspec": {
   "display_name": "Python 3",
   "language": "python",
   "name": "python3"
  },
  "language_info": {
   "codemirror_mode": {
    "name": "ipython",
    "version": 3
   },
   "file_extension": ".py",
   "mimetype": "text/x-python",
   "name": "python",
   "nbconvert_exporter": "python",
   "pygments_lexer": "ipython3",
   "version": "3.6.9"
  }
 },
 "nbformat": 4,
 "nbformat_minor": 2
}
