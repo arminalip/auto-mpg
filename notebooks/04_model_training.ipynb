{
 "cells": [
  {
   "cell_type": "markdown",
   "metadata": {},
   "source": [
    "EDA shows that some features present high colinearity. Highly colinear features can affect the stability of linear models.\n",
    "We will use Lasso Regression because it automatically eleminates unecessary features and Random Forest because it is robust to features colinearity.\n",
    "\n",
    "Another option we could explore to address features colinearity is:\n",
    "- PCA\n",
    "- Feature selection (eleminating features that don't improve evaluation scores)\n",
    "\n",
    "We will use Mean Squarred Error metric for model evaluation."
   ]
  },
  {
   "cell_type": "code",
   "execution_count": 45,
   "metadata": {},
   "outputs": [],
   "source": [
    "import os\n",
    "# for nice dark theme in Jupyter Notebooks\n",
    "from jupyterthemes import jtplot\n",
    "jtplot.style(theme='monokai', context='notebook', ticks=True, grid=False)\n",
    "import warnings\n",
    "warnings.filterwarnings('once')\n",
    "\n",
    "from sklearn.linear_model import LassoCV\n",
    "from sklearn.ensemble import RandomForestRegressor\n",
    "from sklearn.model_selection import train_test_split, cross_validate\n",
    "from sklearn.dummy import DummyRegressor\n",
    "\n",
    "import pandas as pd\n",
    "import numpy as np"
   ]
  },
  {
   "cell_type": "code",
   "execution_count": null,
   "metadata": {},
   "outputs": [],
   "source": [
    "%load_ext autoreload\n",
    "%autoreload 2"
   ]
  },
  {
   "cell_type": "code",
   "execution_count": 2,
   "metadata": {},
   "outputs": [],
   "source": [
    "from src.features.build_features import make_final_train_set"
   ]
  },
  {
   "cell_type": "code",
   "execution_count": 3,
   "metadata": {},
   "outputs": [
    {
     "name": "stderr",
     "output_type": "stream",
     "text": [
      "/Users/Corentin/anaconda3/envs/auto-mpg/lib/python3.6/site-packages/sklearn/utils/validation.py:595: DataConversionWarning: Data with input dtype int64 was converted to float64 by StandardScaler.\n",
      "  warnings.warn(msg, DataConversionWarning)\n",
      "/Users/Corentin/anaconda3/envs/auto-mpg/lib/python3.6/site-packages/sklearn/utils/validation.py:595: DataConversionWarning: Data with input dtype int64 was converted to float64 by StandardScaler.\n",
      "  warnings.warn(msg, DataConversionWarning)\n"
     ]
    }
   ],
   "source": [
    "column_names, full_pipeline, df_train = make_final_train_set()"
   ]
  },
  {
   "cell_type": "code",
   "execution_count": 4,
   "metadata": {},
   "outputs": [
    {
     "data": {
      "text/html": [
       "<div>\n",
       "<style scoped>\n",
       "    .dataframe tbody tr th:only-of-type {\n",
       "        vertical-align: middle;\n",
       "    }\n",
       "\n",
       "    .dataframe tbody tr th {\n",
       "        vertical-align: top;\n",
       "    }\n",
       "\n",
       "    .dataframe thead th {\n",
       "        text-align: right;\n",
       "    }\n",
       "</style>\n",
       "<table border=\"1\" class=\"dataframe\">\n",
       "  <thead>\n",
       "    <tr style=\"text-align: right;\">\n",
       "      <th></th>\n",
       "      <th>displacement</th>\n",
       "      <th>horsepower</th>\n",
       "      <th>weight</th>\n",
       "      <th>acceleration</th>\n",
       "      <th>cylinders</th>\n",
       "      <th>year</th>\n",
       "      <th>x0_ASIA</th>\n",
       "      <th>x0_USA</th>\n",
       "      <th>mpg</th>\n",
       "    </tr>\n",
       "  </thead>\n",
       "  <tbody>\n",
       "    <tr>\n",
       "      <th>0</th>\n",
       "      <td>1.090196</td>\n",
       "      <td>1.266232</td>\n",
       "      <td>0.552826</td>\n",
       "      <td>-1.319334</td>\n",
       "      <td>1.527188</td>\n",
       "      <td>-1.696667</td>\n",
       "      <td>0.0</td>\n",
       "      <td>1.0</td>\n",
       "      <td>16.0</td>\n",
       "    </tr>\n",
       "    <tr>\n",
       "      <th>1</th>\n",
       "      <td>-0.922996</td>\n",
       "      <td>-0.407925</td>\n",
       "      <td>-0.999667</td>\n",
       "      <td>-0.413182</td>\n",
       "      <td>-0.850515</td>\n",
       "      <td>-1.696667</td>\n",
       "      <td>1.0</td>\n",
       "      <td>0.0</td>\n",
       "      <td>27.0</td>\n",
       "    </tr>\n",
       "    <tr>\n",
       "      <th>2</th>\n",
       "      <td>-0.981350</td>\n",
       "      <td>-0.947975</td>\n",
       "      <td>-1.124772</td>\n",
       "      <td>0.927922</td>\n",
       "      <td>-0.850515</td>\n",
       "      <td>1.638975</td>\n",
       "      <td>1.0</td>\n",
       "      <td>0.0</td>\n",
       "      <td>37.0</td>\n",
       "    </tr>\n",
       "    <tr>\n",
       "      <th>3</th>\n",
       "      <td>-0.981350</td>\n",
       "      <td>-1.163996</td>\n",
       "      <td>-1.392854</td>\n",
       "      <td>0.275493</td>\n",
       "      <td>-0.850515</td>\n",
       "      <td>0.527094</td>\n",
       "      <td>1.0</td>\n",
       "      <td>0.0</td>\n",
       "      <td>36.1</td>\n",
       "    </tr>\n",
       "    <tr>\n",
       "      <th>4</th>\n",
       "      <td>-0.747936</td>\n",
       "      <td>-0.218907</td>\n",
       "      <td>-0.327675</td>\n",
       "      <td>-0.231952</td>\n",
       "      <td>-0.850515</td>\n",
       "      <td>-0.306816</td>\n",
       "      <td>0.0</td>\n",
       "      <td>0.0</td>\n",
       "      <td>23.0</td>\n",
       "    </tr>\n",
       "  </tbody>\n",
       "</table>\n",
       "</div>"
      ],
      "text/plain": [
       "   displacement  horsepower    weight  acceleration  cylinders      year  \\\n",
       "0      1.090196    1.266232  0.552826     -1.319334   1.527188 -1.696667   \n",
       "1     -0.922996   -0.407925 -0.999667     -0.413182  -0.850515 -1.696667   \n",
       "2     -0.981350   -0.947975 -1.124772      0.927922  -0.850515  1.638975   \n",
       "3     -0.981350   -1.163996 -1.392854      0.275493  -0.850515  0.527094   \n",
       "4     -0.747936   -0.218907 -0.327675     -0.231952  -0.850515 -0.306816   \n",
       "\n",
       "   x0_ASIA  x0_USA   mpg  \n",
       "0      0.0     1.0  16.0  \n",
       "1      1.0     0.0  27.0  \n",
       "2      1.0     0.0  37.0  \n",
       "3      1.0     0.0  36.1  \n",
       "4      0.0     0.0  23.0  "
      ]
     },
     "execution_count": 4,
     "metadata": {},
     "output_type": "execute_result"
    }
   ],
   "source": [
    "df_train.head()"
   ]
  },
  {
   "cell_type": "code",
   "execution_count": 6,
   "metadata": {},
   "outputs": [
    {
     "data": {
      "text/plain": [
       "(318, 9)"
      ]
     },
     "execution_count": 6,
     "metadata": {},
     "output_type": "execute_result"
    }
   ],
   "source": [
    "df_train.shape"
   ]
  },
  {
   "cell_type": "code",
   "execution_count": 11,
   "metadata": {},
   "outputs": [],
   "source": [
    "X_train = df_train.drop('mpg', axis=1)\n",
    "y_train = df_train['mpg']"
   ]
  },
  {
   "cell_type": "markdown",
   "metadata": {},
   "source": [
    "## Baseline Regression model "
   ]
  },
  {
   "cell_type": "code",
   "execution_count": 46,
   "metadata": {},
   "outputs": [
    {
     "data": {
      "text/plain": [
       "-0.004781699033904019"
      ]
     },
     "execution_count": 46,
     "metadata": {},
     "output_type": "execute_result"
    }
   ],
   "source": [
    "X_train_dummy, X_val_dummy, y_train_dummy, y_val_dummy = train_test_split(X_train, y_train, \n",
    "                                                                          random_state=42,\n",
    "                                                                          test_size=0.2)\n",
    "dummy_mean = DummyRegressor(strategy='mean')\n",
    "dummy_mean.fit(X_train_dummy, y_train_dummy)\n",
    "dummy_mean.score(X_val_dummy, y_val_dummy)"
   ]
  },
  {
   "cell_type": "markdown",
   "metadata": {},
   "source": [
    "## Algorithm selection "
   ]
  },
  {
   "cell_type": "code",
   "execution_count": 91,
   "metadata": {},
   "outputs": [
    {
     "name": "stdout",
     "output_type": "stream",
     "text": [
      "train_score: 0.817 +/- 0.003\n",
      "test_score: 0.800 +/- 0.032\n",
      "alphas: [0.07, 0.04, 0.08, 0.03, 0.02, 0.08, 0.08, 0.07, 0.02, 0.03]\n"
     ]
    }
   ],
   "source": [
    "lasso_cv = LassoCV(alphas=[0.01, 0.02, 0.03, 0.04, 0.05, 0.06, 0.07, 0.08, 0.09, 0.1], cv=10, random_state=42)\n",
    "cv_results = cross_validate(lasso_cv, X_train, y_train, \n",
    "                            cv=10,\n",
    "                            return_estimator=True, \n",
    "                            return_train_score=True,\n",
    "                           )\n",
    "errors_cv(cv_results)\n",
    "alphas = [model.alpha_ for model in cv_results['estimator']]\n",
    "print('alphas:', alphas)\n"
   ]
  },
  {
   "cell_type": "code",
   "execution_count": 78,
   "metadata": {},
   "outputs": [],
   "source": [
    "def accuracy_cv(cv_result):\n",
    "    print('train_score: %.3f +/- %.3f' % (cv_results['train_score'].mean(),\n",
    "                                          cv_results['train_score'].std()))\n",
    "    print('test_score: %.3f +/- %.3f' % (cv_results['test_score'].mean(),\n",
    "                                         cv_results['test_score'].std()))\n",
    "\n",
    "\n"
   ]
  },
  {
   "cell_type": "code",
   "execution_count": 85,
   "metadata": {},
   "outputs": [
    {
     "name": "stdout",
     "output_type": "stream",
     "text": [
      "train_score: 0.817 +/- 0.003\n",
      "test_score: 0.802 +/- 0.032\n"
     ]
    }
   ],
   "source": [
    "errors_cv(cv_results)"
   ]
  },
  {
   "cell_type": "code",
   "execution_count": 88,
   "metadata": {},
   "outputs": [
    {
     "name": "stdout",
     "output_type": "stream",
     "text": [
      "alphas: [0.1, 0.03, 0.1, 0.03, 0.03, 0.1, 0.03, 0.1, 0.03, 0.03]\n",
      "params: [array([-0.        , -0.2538364 , -4.82833848,  0.01721716, -0.        ,\n",
      "        2.75550805,  0.        , -2.03585072]), array([ 1.03942535, -0.2920954 , -5.49614889,  0.18045098,  0.        ,\n",
      "        2.92136871, -0.        , -2.39527932]), array([-0.        , -0.18163169, -4.92435909,  0.        ,  0.        ,\n",
      "        2.75983791,  0.        , -2.02867338]), array([ 0.94526203, -0.34546441, -5.52524736,  0.06502501, -0.        ,\n",
      "        2.90383542,  0.        , -2.13042341]), array([ 1.14072787, -0.56783512, -5.41696756,  0.16337792, -0.06621791,\n",
      "        2.85464956, -0.        , -2.28945258]), array([ 0.        , -0.11687899, -5.08843341,  0.        , -0.        ,\n",
      "        2.83376711,  0.        , -1.32147412]), array([ 0.80263118, -0.42985098, -5.31825708,  0.01050869, -0.        ,\n",
      "        2.87538186,  0.        , -2.23001858]), array([-0.        , -0.31323382, -4.87548118,  0.        , -0.        ,\n",
      "        2.8094251 ,  0.        , -1.63537275]), array([ 1.29525321, -0.        , -5.98067359,  0.18414253,  0.        ,\n",
      "        3.0103216 ,  0.        , -2.33389761]), array([ 1.04419726, -0.47580894, -5.32389006,  0.08385497, -0.        ,\n",
      "        2.82413131,  0.        , -2.68353809])]\n"
     ]
    }
   ],
   "source": [
    "alphas = [model.alpha_ for model in cv_results['estimator']]\n",
    "params = [model.coef_ for model in cv_results['estimator']]\n",
    "print('alphas:', alphas)\n",
    "print('params:', params)"
   ]
  },
  {
   "cell_type": "code",
   "execution_count": 82,
   "metadata": {},
   "outputs": [
    {
     "data": {
      "text/plain": [
       "[0.1, 0.03, 0.1, 0.03, 0.01, 0.1, 0.03, 0.1, 0.03, 0.03]"
      ]
     },
     "execution_count": 82,
     "metadata": {},
     "output_type": "execute_result"
    }
   ],
   "source": [
    "alphas"
   ]
  },
  {
   "cell_type": "code",
   "execution_count": 54,
   "metadata": {},
   "outputs": [
    {
     "data": {
      "text/plain": [
       "{'fit_time': array([0.01011467, 0.00977993, 0.00763392, 0.007797  , 0.00777602]),\n",
       " 'score_time': array([0.00145102, 0.00203395, 0.0010922 , 0.00102305, 0.00100875]),\n",
       " 'estimator': (LassoCV(alphas=[0.01, 0.03, 0.1, 0.3, 1, 3, 10], copy_X=True, cv=3, eps=0.001,\n",
       "      fit_intercept=True, max_iter=1000, n_alphas=100, n_jobs=None,\n",
       "      normalize=False, positive=False, precompute='auto', random_state=42,\n",
       "      selection='cyclic', tol=0.0001, verbose=False),\n",
       "  LassoCV(alphas=[0.01, 0.03, 0.1, 0.3, 1, 3, 10], copy_X=True, cv=3, eps=0.001,\n",
       "      fit_intercept=True, max_iter=1000, n_alphas=100, n_jobs=None,\n",
       "      normalize=False, positive=False, precompute='auto', random_state=42,\n",
       "      selection='cyclic', tol=0.0001, verbose=False),\n",
       "  LassoCV(alphas=[0.01, 0.03, 0.1, 0.3, 1, 3, 10], copy_X=True, cv=3, eps=0.001,\n",
       "      fit_intercept=True, max_iter=1000, n_alphas=100, n_jobs=None,\n",
       "      normalize=False, positive=False, precompute='auto', random_state=42,\n",
       "      selection='cyclic', tol=0.0001, verbose=False),\n",
       "  LassoCV(alphas=[0.01, 0.03, 0.1, 0.3, 1, 3, 10], copy_X=True, cv=3, eps=0.001,\n",
       "      fit_intercept=True, max_iter=1000, n_alphas=100, n_jobs=None,\n",
       "      normalize=False, positive=False, precompute='auto', random_state=42,\n",
       "      selection='cyclic', tol=0.0001, verbose=False),\n",
       "  LassoCV(alphas=[0.01, 0.03, 0.1, 0.3, 1, 3, 10], copy_X=True, cv=3, eps=0.001,\n",
       "      fit_intercept=True, max_iter=1000, n_alphas=100, n_jobs=None,\n",
       "      normalize=False, positive=False, precompute='auto', random_state=42,\n",
       "      selection='cyclic', tol=0.0001, verbose=False)),\n",
       " 'test_score': array([0.83620451, 0.79150695, 0.82180045, 0.78683642, 0.78029516]),\n",
       " 'train_score': array([0.80725284, 0.81774382, 0.81497001, 0.81986986, 0.82501314])}"
      ]
     },
     "execution_count": 54,
     "metadata": {},
     "output_type": "execute_result"
    }
   ],
   "source": [
    "cv_results"
   ]
  },
  {
   "cell_type": "code",
   "execution_count": 92,
   "metadata": {},
   "outputs": [
    {
     "name": "stdout",
     "output_type": "stream",
     "text": [
      "coef:  [ 0.         -0.22731362 -4.82474644  0.04467388  0.          2.77847757\n",
      "  0.         -2.17335886]\n",
      "coef:  [ 0.75294082 -0.22663649 -5.33484503  0.15241441  0.          2.89881262\n",
      " -0.         -2.24909384]\n",
      "coef:  [ 0.         -0.19050158 -4.90414369  0.          0.          2.77342814\n",
      "  0.         -2.12489468]\n",
      "coef:  [ 0.94526203 -0.34546441 -5.52524736  0.06502501 -0.          2.90383542\n",
      "  0.         -2.13042341]\n",
      "coef:  [ 1.63782291 -0.65898584 -5.55982807  0.18279823 -0.28236264  2.87623369\n",
      " -0.05707    -2.48638134]\n",
      "coef:  [ 0.         -0.12361433 -5.07079715  0.          0.          2.84945122\n",
      " -0.         -1.41629889]\n",
      "coef:  [ 0.         -0.13796389 -4.95558639  0.          0.          2.79049414\n",
      "  0.         -1.70288533]\n",
      "coef:  [ 0.         -0.32042961 -4.85197881  0.          0.          2.83125848\n",
      "  0.         -1.77432546]\n",
      "coef:  [ 1.60518747 -0.         -6.2041685   0.23798672  0.          3.03861157\n",
      "  0.         -2.4812899 ]\n",
      "coef:  [ 1.04419726 -0.47580894 -5.32389006  0.08385497 -0.          2.82413131\n",
      "  0.         -2.68353809]\n"
     ]
    }
   ],
   "source": [
    "for model in cv_results['estimator']:\n",
    "    print('coef: ', model.coef_)\n",
    "    "
   ]
  },
  {
   "cell_type": "code",
   "execution_count": null,
   "metadata": {},
   "outputs": [],
   "source": [
    "param = "
   ]
  }
 ],
 "metadata": {
  "kernelspec": {
   "display_name": "Python 3",
   "language": "python",
   "name": "python3"
  },
  "language_info": {
   "codemirror_mode": {
    "name": "ipython",
    "version": 3
   },
   "file_extension": ".py",
   "mimetype": "text/x-python",
   "name": "python",
   "nbconvert_exporter": "python",
   "pygments_lexer": "ipython3",
   "version": "3.6.9"
  }
 },
 "nbformat": 4,
 "nbformat_minor": 2
}
