{
 "cells": [
  {
   "cell_type": "markdown",
   "metadata": {},
   "source": [
    "# Algorithm Selection"
   ]
  },
  {
   "cell_type": "markdown",
   "metadata": {},
   "source": [
    "Exploratory Data Analysis showed that some features present high colinearity. Highly colinear features can affect the stability of machine learning models. \n",
    "\n",
    "In this notebook, we build, train and evaluate:\n",
    "- Lasso Regression because it automatically eliminates unnecessary features,\n",
    "- Random Forest because it is robust to features colinearity.\n",
    "\n",
    "\n",
    "Other options we could explore to work around features colinearity are:\n",
    "- perform PCA to get a project non-colinear subset of initial features\n",
    "- perform feature selection by incrementally eliminating features that don't improve evaluation scores.\n",
    "\n",
    "\n",
    "#### Summary of results from this notebook\n",
    "\n",
    "- Both Random Forest and Lasso Regression outperform the baseline model.\n",
    "- Random Forest cross-validated yields to better RMSE on the test set compared to Lasso cross-validated.\n",
    "- Random Forest RMSE on the test set is very low compared to the train set error. The model is probably overfitting the training set. We will use regularization.\n",
    "- Given these results, we will pick the Random Forest algorithm. We will use cross-validation for hyper-parameter tuning. \n",
    "\n",
    "The rest of the notebook explains how we derived these conclusions."
   ]
  },
  {
   "cell_type": "markdown",
   "metadata": {},
   "source": [
    "#### Read in train processed data"
   ]
  },
  {
   "cell_type": "code",
   "execution_count": 1,
   "metadata": {},
   "outputs": [],
   "source": [
    "import sys\n",
    "sys.path.insert(0,'/Users/Armin/Desktop/MyFirstMLOps/auto-mpg/')"
   ]
  },
  {
   "cell_type": "code",
   "execution_count": 2,
   "metadata": {},
   "outputs": [],
   "source": [
    "import pandas as pd\n",
    "from src.utils import data_path\n",
    "\n",
    "df_train = pd.read_pickle(data_path(\"processed\", \"train_processed.pkl\"))"
   ]
  },
  {
   "cell_type": "code",
   "execution_count": 3,
   "metadata": {},
   "outputs": [
    {
     "name": "stdout",
     "output_type": "stream",
     "text": [
      "<class 'pandas.core.frame.DataFrame'>\n",
      "RangeIndex: 318 entries, 0 to 317\n",
      "Data columns (total 9 columns):\n",
      " #   Column        Non-Null Count  Dtype  \n",
      "---  ------        --------------  -----  \n",
      " 0   displacement  318 non-null    float64\n",
      " 1   horsepower    318 non-null    float64\n",
      " 2   weight        318 non-null    float64\n",
      " 3   acceleration  318 non-null    float64\n",
      " 4   cylinders     318 non-null    float64\n",
      " 5   year          318 non-null    float64\n",
      " 6   x0_ASIA       318 non-null    float64\n",
      " 7   x0_USA        318 non-null    float64\n",
      " 8   mpg           318 non-null    float64\n",
      "dtypes: float64(9)\n",
      "memory usage: 22.5 KB\n"
     ]
    }
   ],
   "source": [
    "df_train.info()"
   ]
  },
  {
   "cell_type": "code",
   "execution_count": 5,
   "metadata": {},
   "outputs": [
    {
     "data": {
      "text/html": [
       "<div>\n",
       "<style scoped>\n",
       "    .dataframe tbody tr th:only-of-type {\n",
       "        vertical-align: middle;\n",
       "    }\n",
       "\n",
       "    .dataframe tbody tr th {\n",
       "        vertical-align: top;\n",
       "    }\n",
       "\n",
       "    .dataframe thead th {\n",
       "        text-align: right;\n",
       "    }\n",
       "</style>\n",
       "<table border=\"1\" class=\"dataframe\">\n",
       "  <thead>\n",
       "    <tr style=\"text-align: right;\">\n",
       "      <th></th>\n",
       "      <th>displacement</th>\n",
       "      <th>horsepower</th>\n",
       "      <th>weight</th>\n",
       "      <th>acceleration</th>\n",
       "      <th>cylinders</th>\n",
       "      <th>year</th>\n",
       "      <th>x0_ASIA</th>\n",
       "      <th>x0_USA</th>\n",
       "      <th>mpg</th>\n",
       "    </tr>\n",
       "  </thead>\n",
       "  <tbody>\n",
       "    <tr>\n",
       "      <td>0</td>\n",
       "      <td>1.090196</td>\n",
       "      <td>1.266232</td>\n",
       "      <td>0.552826</td>\n",
       "      <td>-1.319334</td>\n",
       "      <td>1.527188</td>\n",
       "      <td>-1.696667</td>\n",
       "      <td>0.0</td>\n",
       "      <td>1.0</td>\n",
       "      <td>16.0</td>\n",
       "    </tr>\n",
       "    <tr>\n",
       "      <td>1</td>\n",
       "      <td>-0.922996</td>\n",
       "      <td>-0.407925</td>\n",
       "      <td>-0.999667</td>\n",
       "      <td>-0.413182</td>\n",
       "      <td>-0.850515</td>\n",
       "      <td>-1.696667</td>\n",
       "      <td>1.0</td>\n",
       "      <td>0.0</td>\n",
       "      <td>27.0</td>\n",
       "    </tr>\n",
       "    <tr>\n",
       "      <td>2</td>\n",
       "      <td>-0.981350</td>\n",
       "      <td>-0.947975</td>\n",
       "      <td>-1.124772</td>\n",
       "      <td>0.927922</td>\n",
       "      <td>-0.850515</td>\n",
       "      <td>1.638975</td>\n",
       "      <td>1.0</td>\n",
       "      <td>0.0</td>\n",
       "      <td>37.0</td>\n",
       "    </tr>\n",
       "    <tr>\n",
       "      <td>3</td>\n",
       "      <td>-0.981350</td>\n",
       "      <td>-1.163996</td>\n",
       "      <td>-1.392854</td>\n",
       "      <td>0.275493</td>\n",
       "      <td>-0.850515</td>\n",
       "      <td>0.527094</td>\n",
       "      <td>1.0</td>\n",
       "      <td>0.0</td>\n",
       "      <td>36.1</td>\n",
       "    </tr>\n",
       "    <tr>\n",
       "      <td>4</td>\n",
       "      <td>-0.747936</td>\n",
       "      <td>-0.218907</td>\n",
       "      <td>-0.327675</td>\n",
       "      <td>-0.231952</td>\n",
       "      <td>-0.850515</td>\n",
       "      <td>-0.306816</td>\n",
       "      <td>0.0</td>\n",
       "      <td>0.0</td>\n",
       "      <td>23.0</td>\n",
       "    </tr>\n",
       "  </tbody>\n",
       "</table>\n",
       "</div>"
      ],
      "text/plain": [
       "   displacement  horsepower    weight  acceleration  cylinders      year  \\\n",
       "0      1.090196    1.266232  0.552826     -1.319334   1.527188 -1.696667   \n",
       "1     -0.922996   -0.407925 -0.999667     -0.413182  -0.850515 -1.696667   \n",
       "2     -0.981350   -0.947975 -1.124772      0.927922  -0.850515  1.638975   \n",
       "3     -0.981350   -1.163996 -1.392854      0.275493  -0.850515  0.527094   \n",
       "4     -0.747936   -0.218907 -0.327675     -0.231952  -0.850515 -0.306816   \n",
       "\n",
       "   x0_ASIA  x0_USA   mpg  \n",
       "0      0.0     1.0  16.0  \n",
       "1      1.0     0.0  27.0  \n",
       "2      1.0     0.0  37.0  \n",
       "3      1.0     0.0  36.1  \n",
       "4      0.0     0.0  23.0  "
      ]
     },
     "execution_count": 5,
     "metadata": {},
     "output_type": "execute_result"
    },
    {
     "data": {
      "application/javascript": "\n            setTimeout(function() {\n                var nbb_cell_id = 5;\n                var nbb_formatted_code = \"df_train.head()\";\n                var nbb_cells = Jupyter.notebook.get_cells();\n                for (var i = 0; i < nbb_cells.length; ++i) {\n                    if (nbb_cells[i].input_prompt_number == nbb_cell_id) {\n                        nbb_cells[i].set_text(nbb_formatted_code);\n                        break;\n                    }\n                }\n            }, 500);\n            ",
      "text/plain": [
       "<IPython.core.display.Javascript object>"
      ]
     },
     "metadata": {},
     "output_type": "display_data"
    }
   ],
   "source": [
    "df_train.head()"
   ]
  },
  {
   "cell_type": "code",
   "execution_count": 4,
   "metadata": {},
   "outputs": [],
   "source": [
    "X_train = df_train.drop(\"mpg\", axis=1)\n",
    "y_train = df_train[\"mpg\"]"
   ]
  },
  {
   "cell_type": "markdown",
   "metadata": {},
   "source": [
    "## Lasso Regression "
   ]
  },
  {
   "cell_type": "code",
   "execution_count": 5,
   "metadata": {},
   "outputs": [
    {
     "data": {
      "text/html": [
       "<div>\n",
       "<style scoped>\n",
       "    .dataframe tbody tr th:only-of-type {\n",
       "        vertical-align: middle;\n",
       "    }\n",
       "\n",
       "    .dataframe tbody tr th {\n",
       "        vertical-align: top;\n",
       "    }\n",
       "\n",
       "    .dataframe thead th {\n",
       "        text-align: right;\n",
       "    }\n",
       "</style>\n",
       "<table border=\"1\" class=\"dataframe\">\n",
       "  <thead>\n",
       "    <tr style=\"text-align: right;\">\n",
       "      <th></th>\n",
       "      <th>rmse</th>\n",
       "      <th>rmse_std</th>\n",
       "    </tr>\n",
       "  </thead>\n",
       "  <tbody>\n",
       "    <tr>\n",
       "      <th>train</th>\n",
       "      <td>3.388</td>\n",
       "      <td>0.039</td>\n",
       "    </tr>\n",
       "    <tr>\n",
       "      <th>test</th>\n",
       "      <td>3.463</td>\n",
       "      <td>0.397</td>\n",
       "    </tr>\n",
       "  </tbody>\n",
       "</table>\n",
       "</div>"
      ],
      "text/plain": [
       "        rmse  rmse_std\n",
       "train  3.388     0.039\n",
       "test   3.463     0.397"
      ]
     },
     "execution_count": 5,
     "metadata": {},
     "output_type": "execute_result"
    }
   ],
   "source": [
    "from sklearn.metrics import make_scorer, mean_squared_error\n",
    "from sklearn.model_selection import cross_validate\n",
    "from sklearn.linear_model import LassoCV\n",
    "from src.train import rmse_cross_validate\n",
    "\n",
    "mse_scorer = make_scorer(mean_squared_error)\n",
    "\n",
    "alphas = [0.01 * i for i in range(1, 11)]\n",
    "lasso_cv = LassoCV(alphas=alphas, cv=10, random_state=42)\n",
    "\n",
    "lasso_cv_results = cross_validate(\n",
    "    lasso_cv,\n",
    "    X_train,\n",
    "    y_train,\n",
    "    cv=10,\n",
    "    return_estimator=True,\n",
    "    return_train_score=True,\n",
    "    scoring={\"mse\": mse_scorer},\n",
    ")\n",
    "rmse_cross_validate(lasso_cv_results)"
   ]
  },
  {
   "cell_type": "markdown",
   "metadata": {},
   "source": [
    "#### Imports for visualization "
   ]
  },
  {
   "cell_type": "code",
   "execution_count": 6,
   "metadata": {},
   "outputs": [],
   "source": [
    "import matplotlib.pyplot as plt\n",
    "\n",
    "plt.style.use(\"classic\")\n",
    "# plt.rcParams[\"font.size\"] = 24\n",
    "%matplotlib inline\n",
    "\n",
    "import seaborn as sns\n",
    "\n",
    "sns.set_style(\"whitegrid\")\n",
    "# sns.set(font_scale=2)\n",
    "\n",
    "# Internal ipython tool for setting figure size\n",
    "from IPython.core.pylabtools import figsize"
   ]
  },
  {
   "cell_type": "markdown",
   "metadata": {},
   "source": [
    "###  Lasso paramameters stabilty"
   ]
  },
  {
   "cell_type": "markdown",
   "metadata": {},
   "source": [
    "#### Check `alpha` "
   ]
  },
  {
   "cell_type": "markdown",
   "metadata": {},
   "source": [
    "Lasso parameter `alpha` is the regularization parameter. It penalises the number of features in the model to keep only the most important ones. \n",
    "\n",
    "The higher the `alpha`, the most features will have their coefficient zeroed. When `alpha` is set at zero, Lasso Regression is equivalent to linear regression without regularization. "
   ]
  },
  {
   "cell_type": "code",
   "execution_count": 7,
   "metadata": {},
   "outputs": [
    {
     "data": {
      "image/png": "[encoded data removed]",
      "text/plain": [
       "<Figure size 576x360 with 1 Axes>"
      ]
     },
     "metadata": {},
     "output_type": "display_data"
    }
   ],
   "source": [
    "figsize(8, 5)\n",
    "alphas = [model.alpha_ for model in lasso_cv_results[\"estimator\"]]\n",
    "plt.style.use(\"fivethirtyeight\")\n",
    "plt.hist(alphas, bins=20)\n",
    "sns.despine()\n",
    "plt.xlabel(\"Alpha\")\n",
    "plt.ylabel(\"Count\")\n",
    "plt.title(\"Distribution of Alpha Parameter in LassoCV\")\n",
    "plt.show()"
   ]
  },
  {
   "cell_type": "code",
   "execution_count": 8,
   "metadata": {},
   "outputs": [
    {
     "name": "stdout",
     "output_type": "stream",
     "text": [
      "alphas mean: 0.052\n",
      "alphas std: 0.025\n"
     ]
    }
   ],
   "source": [
    "import numpy as np\n",
    "\n",
    "print(\"alphas mean:\", np.mean(alphas).round(3))\n",
    "print(\"alphas std:\", np.std(alphas).round(3))"
   ]
  },
  {
   "cell_type": "markdown",
   "metadata": {},
   "source": [
    "The values of `alpha` aren't consistent across cross-valiadation."
   ]
  },
  {
   "cell_type": "markdown",
   "metadata": {},
   "source": [
    "#### Check coeffients "
   ]
  },
  {
   "cell_type": "code",
   "execution_count": 9,
   "metadata": {},
   "outputs": [
    {
     "data": {
      "text/html": [
       "<div>\n",
       "<style scoped>\n",
       "    .dataframe tbody tr th:only-of-type {\n",
       "        vertical-align: middle;\n",
       "    }\n",
       "\n",
       "    .dataframe tbody tr th {\n",
       "        vertical-align: top;\n",
       "    }\n",
       "\n",
       "    .dataframe thead th {\n",
       "        text-align: right;\n",
       "    }\n",
       "</style>\n",
       "<table border=\"1\" class=\"dataframe\">\n",
       "  <thead>\n",
       "    <tr style=\"text-align: right;\">\n",
       "      <th></th>\n",
       "      <th>displacement</th>\n",
       "      <th>horsepower</th>\n",
       "      <th>weight</th>\n",
       "      <th>acceleration</th>\n",
       "      <th>cylinders</th>\n",
       "      <th>year</th>\n",
       "      <th>x0_ASIA</th>\n",
       "      <th>x0_USA</th>\n",
       "    </tr>\n",
       "  </thead>\n",
       "  <tbody>\n",
       "    <tr>\n",
       "      <th>mean</th>\n",
       "      <td>0.598541</td>\n",
       "      <td>-0.270672</td>\n",
       "      <td>-5.255523</td>\n",
       "      <td>0.076675</td>\n",
       "      <td>-0.028236</td>\n",
       "      <td>2.856473</td>\n",
       "      <td>-0.005707</td>\n",
       "      <td>-2.122249</td>\n",
       "    </tr>\n",
       "    <tr>\n",
       "      <th>std</th>\n",
       "      <td>0.685352</td>\n",
       "      <td>0.189645</td>\n",
       "      <td>0.431047</td>\n",
       "      <td>0.086761</td>\n",
       "      <td>0.089291</td>\n",
       "      <td>0.079348</td>\n",
       "      <td>0.018047</td>\n",
       "      <td>0.393080</td>\n",
       "    </tr>\n",
       "  </tbody>\n",
       "</table>\n",
       "</div>"
      ],
      "text/plain": [
       "      displacement  horsepower    weight  acceleration  cylinders      year  \\\n",
       "mean      0.598541   -0.270672 -5.255523      0.076675  -0.028236  2.856473   \n",
       "std       0.685352    0.189645  0.431047      0.086761   0.089291  0.079348   \n",
       "\n",
       "       x0_ASIA    x0_USA  \n",
       "mean -0.005707 -2.122249  \n",
       "std   0.018047  0.393080  "
      ]
     },
     "execution_count": 9,
     "metadata": {},
     "output_type": "execute_result"
    }
   ],
   "source": [
    "params = [model.coef_ for model in lasso_cv_results[\"estimator\"]]\n",
    "df_lasso_cv_params = pd.DataFrame(np.stack(params), columns=X_train.columns)\n",
    "df_lasso_cv_params.describe().loc[[\"mean\", \"std\"], :]"
   ]
  },
  {
   "cell_type": "markdown",
   "metadata": {},
   "source": [
    "Lasso coefficients vary with the training example. The Lasso model seems unstable across the different training samples.\n",
    "Tibshirani identified the conditions for Lasso \"uniqueness\" in this 2013 paper [[1]](https://projecteuclid.org/download/pdfview_1/euclid.ejs/1369148600).\n",
    "One of these conditions is continuous features. Cylinders, Year and Region are categorical.\n",
    "Useful papers to read about Lasso model instability:\n",
    "- [Sparse Algorithms are not Stable](http://users.ece.utexas.edu/~cmcaram/pubs/XuCaramanisMannor.NFL.pdf)\n",
    "- [The lasso problem and uniqueness](https://projecteuclid.org/download/pdfview_1/euclid.ejs/1369148600)\n",
    "- [Stack overflow question and answers](https://stats.stackexchange.com/questions/365938/what-causes-lasso-to-be-unstable-for-feature-selection)\n"
   ]
  },
  {
   "cell_type": "markdown",
   "metadata": {},
   "source": [
    "From the coefficients, we can also see that LassoCV uses `weight` and `year` as top predictors. Features that are highly correlated to `weight` like `horsepower` or `displacement` have coefficients closer to zero."
   ]
  },
  {
   "cell_type": "markdown",
   "metadata": {},
   "source": [
    "## Random Forest "
   ]
  },
  {
   "cell_type": "code",
   "execution_count": 10,
   "metadata": {},
   "outputs": [
    {
     "data": {
      "text/html": [
       "<div>\n",
       "<style scoped>\n",
       "    .dataframe tbody tr th:only-of-type {\n",
       "        vertical-align: middle;\n",
       "    }\n",
       "\n",
       "    .dataframe tbody tr th {\n",
       "        vertical-align: top;\n",
       "    }\n",
       "\n",
       "    .dataframe thead th {\n",
       "        text-align: right;\n",
       "    }\n",
       "</style>\n",
       "<table border=\"1\" class=\"dataframe\">\n",
       "  <thead>\n",
       "    <tr style=\"text-align: right;\">\n",
       "      <th></th>\n",
       "      <th>rmse</th>\n",
       "      <th>rmse_std</th>\n",
       "    </tr>\n",
       "  </thead>\n",
       "  <tbody>\n",
       "    <tr>\n",
       "      <th>train</th>\n",
       "      <td>1.129</td>\n",
       "      <td>0.033</td>\n",
       "    </tr>\n",
       "    <tr>\n",
       "      <th>test</th>\n",
       "      <td>2.827</td>\n",
       "      <td>0.485</td>\n",
       "    </tr>\n",
       "  </tbody>\n",
       "</table>\n",
       "</div>"
      ],
      "text/plain": [
       "        rmse  rmse_std\n",
       "train  1.129     0.033\n",
       "test   2.827     0.485"
      ]
     },
     "execution_count": 10,
     "metadata": {},
     "output_type": "execute_result"
    }
   ],
   "source": [
    "from sklearn.ensemble import RandomForestRegressor\n",
    "from sklearn.model_selection import GridSearchCV\n",
    "\n",
    "param_grid = [{\"n_estimators\": [3, 10, 30], \"max_features\": [2, 4, 6, 8]}]\n",
    "rf = RandomForestRegressor(random_state=42)\n",
    "\n",
    "rfcv = GridSearchCV(rf, param_grid, cv=10, return_train_score=True, n_jobs=-1)\n",
    "\n",
    "rfcv_results = cross_validate(\n",
    "    rfcv,\n",
    "    X_train,\n",
    "    y_train,\n",
    "    cv=10,\n",
    "    return_estimator=True,\n",
    "    return_train_score=True,\n",
    "    n_jobs=-1,\n",
    "    scoring={\"mse\": mse_scorer},\n",
    ")\n",
    "rmse_cross_validate(rfcv_results)"
   ]
  },
  {
   "cell_type": "markdown",
   "metadata": {},
   "source": [
    "#### Compare to LassoCV "
   ]
  },
  {
   "cell_type": "code",
   "execution_count": 11,
   "metadata": {},
   "outputs": [
    {
     "data": {
      "text/html": [
       "<div>\n",
       "<style scoped>\n",
       "    .dataframe tbody tr th:only-of-type {\n",
       "        vertical-align: middle;\n",
       "    }\n",
       "\n",
       "    .dataframe tbody tr th {\n",
       "        vertical-align: top;\n",
       "    }\n",
       "\n",
       "    .dataframe thead th {\n",
       "        text-align: right;\n",
       "    }\n",
       "</style>\n",
       "<table border=\"1\" class=\"dataframe\">\n",
       "  <thead>\n",
       "    <tr style=\"text-align: right;\">\n",
       "      <th></th>\n",
       "      <th>rmse</th>\n",
       "      <th>rmse_std</th>\n",
       "    </tr>\n",
       "  </thead>\n",
       "  <tbody>\n",
       "    <tr>\n",
       "      <th>train</th>\n",
       "      <td>3.388</td>\n",
       "      <td>0.039</td>\n",
       "    </tr>\n",
       "    <tr>\n",
       "      <th>test</th>\n",
       "      <td>3.463</td>\n",
       "      <td>0.397</td>\n",
       "    </tr>\n",
       "  </tbody>\n",
       "</table>\n",
       "</div>"
      ],
      "text/plain": [
       "        rmse  rmse_std\n",
       "train  3.388     0.039\n",
       "test   3.463     0.397"
      ]
     },
     "execution_count": 11,
     "metadata": {},
     "output_type": "execute_result"
    }
   ],
   "source": [
    "rmse_cross_validate(lasso_cv_results)"
   ]
  },
  {
   "cell_type": "markdown",
   "metadata": {},
   "source": [
    "###  RF params statbilty"
   ]
  },
  {
   "cell_type": "code",
   "execution_count": 12,
   "metadata": {},
   "outputs": [
    {
     "data": {
      "text/plain": [
       "[{'max_features': 2, 'n_estimators': 30},\n",
       " {'max_features': 6, 'n_estimators': 30},\n",
       " {'max_features': 6, 'n_estimators': 30},\n",
       " {'max_features': 6, 'n_estimators': 30},\n",
       " {'max_features': 2, 'n_estimators': 30},\n",
       " {'max_features': 2, 'n_estimators': 30},\n",
       " {'max_features': 2, 'n_estimators': 30},\n",
       " {'max_features': 2, 'n_estimators': 30},\n",
       " {'max_features': 2, 'n_estimators': 30},\n",
       " {'max_features': 4, 'n_estimators': 30}]"
      ]
     },
     "execution_count": 12,
     "metadata": {},
     "output_type": "execute_result"
    }
   ],
   "source": [
    "[model.best_params_ for model in rfcv_results[\"estimator\"]]"
   ]
  },
  {
   "cell_type": "code",
   "execution_count": 13,
   "metadata": {},
   "outputs": [
    {
     "data": {
      "image/png": "[encoded data removed]",
      "text/plain": [
       "<Figure size 576x360 with 1 Axes>"
      ]
     },
     "metadata": {},
     "output_type": "display_data"
    }
   ],
   "source": [
    "max_features = [\n",
    "    model.best_params_[\"max_features\"] for model in rfcv_results[\"estimator\"]\n",
    "]\n",
    "plt.hist(max_features)\n",
    "sns.despine()\n",
    "plt.xlabel(\"max_features\")\n",
    "plt.ylabel(\"Count\")\n",
    "plt.title(\"Distribution of max_features Parameter\")\n",
    "plt.show()"
   ]
  },
  {
   "cell_type": "markdown",
   "metadata": {},
   "source": [
    "There is some variability for the choice of parameters of the cross-validation for Randon Forest but much less than for LassoCV."
   ]
  },
  {
   "cell_type": "markdown",
   "metadata": {},
   "source": [
    "## Conclusions\n",
    "\n",
    "Random Forest cross-validated yields to better RMSE on the test set compared to Lasso cross-validated.\n",
    "\n",
    "Random Forest is probably overfitting the training set. Regularization might help with overfitting.\n",
    "\n",
    "There is a variablity in `max_features` parameter. The relatively small size of the training set might cause this instablity.\n",
    "\n",
    "Given these results, we will pick Random Forest algorithm. We won't use nested cross-validation but simple cross-validation to finetuning. This way the model will access more instances to train on.\n"
   ]
  }
 ],
 "metadata": {
  "file_extension": ".py",
  "kernelspec": {
   "display_name": "Python 3.7.11 ('myenv')",
   "language": "python",
   "name": "python3"
  },
  "language_info": {
   "codemirror_mode": {
    "name": "ipython",
    "version": 3
   },
   "file_extension": ".py",
   "mimetype": "text/x-python",
   "name": "python",
   "nbconvert_exporter": "python",
   "pygments_lexer": "ipython3",
   "version": "3.7.11"
  },
  "mimetype": "text/x-python",
  "name": "python",
  "npconvert_exporter": "python",
  "pygments_lexer": "ipython3",
  "version": 3,
  "vscode": {
   "interpreter": {
    "hash": "59dd7446574ef5ad635f6747e0e851456ec7462e01a404929f0110e0f23ebb61"
   }
  }
 },
 "nbformat": 4,
 "nbformat_minor": 2
}
