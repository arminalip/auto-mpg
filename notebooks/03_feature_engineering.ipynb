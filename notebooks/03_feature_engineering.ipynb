{
 "cells": [
  {
   "cell_type": "markdown",
   "metadata": {},
   "source": [
    "# Feature Engineering and Selection"
   ]
  },
  {
   "cell_type": "markdown",
   "metadata": {},
   "source": [
    "Main steps:\n",
    "- We only select numerical feature: we drop `name` and `company`\n",
    "- We use `median` strategy for missing values in `horsepower` since it is tail heavy.\n",
    "- We standardize numerical features. Not all algorithms need scaling to perform well. For example, linear regression (when not trained with gradient descent) and tree-based algorithms don't suffer from features not being on the same scale and centred around zero. We will, however, scale features in case we want to use algorithms other than the latter.\n",
    "- We one-hot-encode `region` and drop the column corresponding to `Europe` to limit colinearity in the dataset."
   ]
  },
  {
   "cell_type": "code",
   "execution_count": 1,
   "metadata": {},
   "outputs": [
    {
     "data": {
      "application/javascript": [
       "\n",
       "            setTimeout(function() {\n",
       "                var nbb_cell_id = 1;\n",
       "                var nbb_formatted_code = \"# use black formatter\\n%load_ext nb_black\";\n",
       "                var nbb_cells = Jupyter.notebook.get_cells();\n",
       "                for (var i = 0; i < nbb_cells.length; ++i) {\n",
       "                    if (nbb_cells[i].input_prompt_number == nbb_cell_id) {\n",
       "                        nbb_cells[i].set_text(nbb_formatted_code);\n",
       "                        break;\n",
       "                    }\n",
       "                }\n",
       "            }, 500);\n",
       "            "
      ],
      "text/plain": [
       "<IPython.core.display.Javascript object>"
      ]
     },
     "metadata": {},
     "output_type": "display_data"
    }
   ],
   "source": [
    "# use black formatter\n",
    "%load_ext nb_black"
   ]
  },
  {
   "cell_type": "code",
   "execution_count": 2,
   "metadata": {},
   "outputs": [
    {
     "data": {
      "application/javascript": [
       "\n",
       "            setTimeout(function() {\n",
       "                var nbb_cell_id = 2;\n",
       "                var nbb_formatted_code = \"%load_ext autoreload\\n%autoreload 2\";\n",
       "                var nbb_cells = Jupyter.notebook.get_cells();\n",
       "                for (var i = 0; i < nbb_cells.length; ++i) {\n",
       "                    if (nbb_cells[i].input_prompt_number == nbb_cell_id) {\n",
       "                        nbb_cells[i].set_text(nbb_formatted_code);\n",
       "                        break;\n",
       "                    }\n",
       "                }\n",
       "            }, 500);\n",
       "            "
      ],
      "text/plain": [
       "<IPython.core.display.Javascript object>"
      ]
     },
     "metadata": {},
     "output_type": "display_data"
    }
   ],
   "source": [
    "%load_ext autoreload\n",
    "%autoreload 2"
   ]
  },
  {
   "cell_type": "markdown",
   "metadata": {},
   "source": [
    "#### Feature selection and engineering pipeline "
   ]
  },
  {
   "cell_type": "code",
   "execution_count": 3,
   "metadata": {},
   "outputs": [
    {
     "data": {
      "application/javascript": [
       "\n",
       "            setTimeout(function() {\n",
       "                var nbb_cell_id = 3;\n",
       "                var nbb_formatted_code = \"import os\\nimport pandas as pd\\nimport numpy as np\\nfrom sklearn.impute import SimpleImputer\\nfrom sklearn.preprocessing import StandardScaler, OneHotEncoder\\nfrom sklearn.pipeline import Pipeline\\nfrom sklearn.compose import ColumnTransformer\\nfrom sklearn.model_selection import train_test_split\\nfrom src.utils import data_path, save_data\\n\\n# Continous features\\nCONTINUOUS_FEATURES = [\\\"displacement\\\", \\\"horsepower\\\", \\\"weight\\\", \\\"acceleration\\\"]\\n# Categorical features\\nORDINAL_FEATURES = [\\\"cylinders\\\", \\\"year\\\"]\\nNOMINAL_FEATURES = [\\\"region\\\"]\\n\\n\\ndef make_final_transformation_pipe():\\n\\n    # Build transformation pipelines adapted to feature types\\n    cont_pipeline = Pipeline(\\n        [\\n            (\\\"imputer_cont\\\", SimpleImputer(strategy=\\\"median\\\")),\\n            (\\\"std_scaler_cont\\\", StandardScaler()),\\n        ]\\n    )\\n\\n    ord_pipeline = Pipeline(\\n        [\\n            (\\\"imputer_ord\\\", SimpleImputer(strategy=\\\"most_frequent\\\")),\\n            (\\\"std_scaler_ord\\\", StandardScaler()),\\n        ]\\n    )\\n\\n    full_pipeline = ColumnTransformer(\\n        [\\n            (\\\"cont\\\", cont_pipeline, CONTINUOUS_FEATURES),\\n            (\\\"ord\\\", ord_pipeline, ORDINAL_FEATURES),\\n            (\\\"nom\\\", OneHotEncoder(), NOMINAL_FEATURES),\\n        ]\\n    )\\n\\n    return full_pipeline\\n\\n\\n# def get_interim_data(dataset):\\n#     if dataset not in [\\\"train\\\", \\\"test\\\"]:\\n#         raise Exception(\\\"dataset type argument is train or test)\\\")\\n#     filename = f\\\"{dataset}_cleaned.pkl\\\"\\n#     filepath = data_path(\\\"interim\\\", filename)\\n#     return pd.read_pickle(filepath)\\n\\n\\ndef get_cleaned_train_test_df():\\n    clean_data_path = data_path(\\\"interim\\\", \\\"data_cleaned.pkl\\\")\\n    df = pd.read_pickle(clean_data_path)\\n    X = df.drop(\\\"mpg\\\", axis=1)\\n    y = df[\\\"mpg\\\"]\\n    return train_test_split(X, y, test_size=0.2, random_state=42, shuffle=True)\\n\\n\\ndef make_final_sets():\\n    X_train, X_test, y_train, y_test = get_cleaned_train_test_df()\\n\\n    full_pipeline = make_final_transformation_pipe()\\n    X_train_processed_values = full_pipeline.fit_transform(X_train)\\n    X_test_processed_values = full_pipeline.transform(X_test)\\n\\n    # Add column names to build the processed dataframe\\n    region_ohe_features = list(\\n        full_pipeline.named_transformers_[\\\"nom\\\"].get_feature_names()\\n    )\\n    column_names = CONTINUOUS_FEATURES + ORDINAL_FEATURES + region_ohe_features\\n    X_train_processed = pd.DataFrame(X_train_processed_values, columns=column_names)\\n    X_test_processed = pd.DataFrame(X_test_processed_values, columns=column_names)\\n\\n    # Drop one of the ohe features to limit correlations in the data set\\n    for df in (X_train_processed, X_test_processed):\\n        df.drop(\\\"x0_EUROPE\\\", axis=1, inplace=True)\\n\\n    # Save the data\\n    df_train_processed = X_train_processed.join(y_train.reset_index(drop=True))\\n    save_data(df_train_processed, \\\"processed\\\", \\\"train_processed.pkl\\\")\\n\\n    df_test_processsed = X_test_processed.join(y_test.reset_index(drop=True))\\n    save_data(df_test_processsed, \\\"processed\\\", \\\"test_processed.pkl\\\")\\n\\n    return df_train_processed, df_test_processsed\";\n",
       "                var nbb_cells = Jupyter.notebook.get_cells();\n",
       "                for (var i = 0; i < nbb_cells.length; ++i) {\n",
       "                    if (nbb_cells[i].input_prompt_number == nbb_cell_id) {\n",
       "                        nbb_cells[i].set_text(nbb_formatted_code);\n",
       "                        break;\n",
       "                    }\n",
       "                }\n",
       "            }, 500);\n",
       "            "
      ],
      "text/plain": [
       "<IPython.core.display.Javascript object>"
      ]
     },
     "metadata": {},
     "output_type": "display_data"
    }
   ],
   "source": [
    "import os\n",
    "import pandas as pd\n",
    "import numpy as np\n",
    "from sklearn.impute import SimpleImputer\n",
    "from sklearn.preprocessing import StandardScaler, OneHotEncoder\n",
    "from sklearn.pipeline import Pipeline\n",
    "from sklearn.compose import ColumnTransformer\n",
    "from sklearn.model_selection import train_test_split\n",
    "from src.utils import data_path, save_data\n",
    "\n",
    "# Continous features\n",
    "CONTINUOUS_FEATURES = [\"displacement\", \"horsepower\", \"weight\", \"acceleration\"]\n",
    "# Categorical features\n",
    "ORDINAL_FEATURES = [\"cylinders\", \"year\"]\n",
    "NOMINAL_FEATURES = [\"region\"]\n",
    "\n",
    "\n",
    "def make_final_transformation_pipe():\n",
    "\n",
    "    # Build transformation pipelines adapted to feature types\n",
    "    cont_pipeline = Pipeline(\n",
    "        [\n",
    "            (\"imputer_cont\", SimpleImputer(strategy=\"median\")),\n",
    "            (\"std_scaler_cont\", StandardScaler()),\n",
    "        ]\n",
    "    )\n",
    "\n",
    "    ord_pipeline = Pipeline(\n",
    "        [\n",
    "            (\"imputer_ord\", SimpleImputer(strategy=\"most_frequent\")),\n",
    "            (\"std_scaler_ord\", StandardScaler()),\n",
    "        ]\n",
    "    )\n",
    "\n",
    "    full_pipeline = ColumnTransformer(\n",
    "        [\n",
    "            (\"cont\", cont_pipeline, CONTINUOUS_FEATURES),\n",
    "            (\"ord\", ord_pipeline, ORDINAL_FEATURES),\n",
    "            (\"nom\", OneHotEncoder(), NOMINAL_FEATURES),\n",
    "        ]\n",
    "    )\n",
    "\n",
    "    return full_pipeline\n",
    "\n",
    "\n",
    "# def get_interim_data(dataset):\n",
    "#     if dataset not in [\"train\", \"test\"]:\n",
    "#         raise Exception(\"dataset type argument is train or test)\")\n",
    "#     filename = f\"{dataset}_cleaned.pkl\"\n",
    "#     filepath = data_path(\"interim\", filename)\n",
    "#     return pd.read_pickle(filepath)\n",
    "\n",
    "\n",
    "def get_cleaned_train_test_df():\n",
    "    clean_data_path = data_path(\"interim\", \"data_cleaned.pkl\")\n",
    "    df = pd.read_pickle(clean_data_path)\n",
    "    X = df.drop(\"mpg\", axis=1)\n",
    "    y = df[\"mpg\"]\n",
    "    return train_test_split(X, y, test_size=0.2, random_state=42, shuffle=True)\n",
    "\n",
    "\n",
    "def make_final_sets():\n",
    "    X_train, X_test, y_train, y_test = get_cleaned_train_test_df()\n",
    "\n",
    "    full_pipeline = make_final_transformation_pipe()\n",
    "    X_train_processed_values = full_pipeline.fit_transform(X_train)\n",
    "    X_test_processed_values = full_pipeline.transform(X_test)\n",
    "\n",
    "    # Add column names to build the processed dataframe\n",
    "    region_ohe_features = list(\n",
    "        full_pipeline.named_transformers_[\"nom\"].get_feature_names()\n",
    "    )\n",
    "    column_names = CONTINUOUS_FEATURES + ORDINAL_FEATURES + region_ohe_features\n",
    "    X_train_processed = pd.DataFrame(X_train_processed_values, columns=column_names)\n",
    "    X_test_processed = pd.DataFrame(X_test_processed_values, columns=column_names)\n",
    "\n",
    "    # Drop one of the ohe features to limit correlations in the data set\n",
    "    for df in (X_train_processed, X_test_processed):\n",
    "        df.drop(\"x0_EUROPE\", axis=1, inplace=True)\n",
    "\n",
    "    # Save the data\n",
    "    df_train_processed = X_train_processed.join(y_train.reset_index(drop=True))\n",
    "    save_data(df_train_processed, \"processed\", \"train_processed.pkl\")\n",
    "\n",
    "    df_test_processsed = X_test_processed.join(y_test.reset_index(drop=True))\n",
    "    save_data(df_test_processsed, \"processed\", \"test_processed.pkl\")\n",
    "\n",
    "    return df_train_processed, df_test_processsed"
   ]
  },
  {
   "cell_type": "code",
   "execution_count": 4,
   "metadata": {},
   "outputs": [
    {
     "name": "stderr",
     "output_type": "stream",
     "text": [
      "/Users/Corentin/miniconda3/envs/auto-mpg/lib/python3.6/site-packages/sklearn/utils/validation.py:595: DataConversionWarning: Data with input dtype int64 was converted to float64 by StandardScaler.\n",
      "  warnings.warn(msg, DataConversionWarning)\n",
      "/Users/Corentin/miniconda3/envs/auto-mpg/lib/python3.6/site-packages/sklearn/utils/validation.py:595: DataConversionWarning: Data with input dtype int64 was converted to float64 by StandardScaler.\n",
      "  warnings.warn(msg, DataConversionWarning)\n",
      "/Users/Corentin/miniconda3/envs/auto-mpg/lib/python3.6/site-packages/sklearn/utils/validation.py:595: DataConversionWarning: Data with input dtype int64 was converted to float64 by StandardScaler.\n",
      "  warnings.warn(msg, DataConversionWarning)\n"
     ]
    },
    {
     "data": {
      "application/javascript": [
       "\n",
       "            setTimeout(function() {\n",
       "                var nbb_cell_id = 4;\n",
       "                var nbb_formatted_code = \"df_train, df_test = make_final_sets()\";\n",
       "                var nbb_cells = Jupyter.notebook.get_cells();\n",
       "                for (var i = 0; i < nbb_cells.length; ++i) {\n",
       "                    if (nbb_cells[i].input_prompt_number == nbb_cell_id) {\n",
       "                        nbb_cells[i].set_text(nbb_formatted_code);\n",
       "                        break;\n",
       "                    }\n",
       "                }\n",
       "            }, 500);\n",
       "            "
      ],
      "text/plain": [
       "<IPython.core.display.Javascript object>"
      ]
     },
     "metadata": {},
     "output_type": "display_data"
    }
   ],
   "source": [
    "df_train, df_test = make_final_sets()"
   ]
  },
  {
   "cell_type": "markdown",
   "metadata": {},
   "source": [
    "We can ignore this warning. It is expected that Standardizing ordinal features converted them to float. "
   ]
  },
  {
   "cell_type": "markdown",
   "metadata": {},
   "source": [
    "#### Check training set "
   ]
  },
  {
   "cell_type": "code",
   "execution_count": 5,
   "metadata": {},
   "outputs": [
    {
     "data": {
      "text/html": [
       "<div>\n",
       "<style scoped>\n",
       "    .dataframe tbody tr th:only-of-type {\n",
       "        vertical-align: middle;\n",
       "    }\n",
       "\n",
       "    .dataframe tbody tr th {\n",
       "        vertical-align: top;\n",
       "    }\n",
       "\n",
       "    .dataframe thead th {\n",
       "        text-align: right;\n",
       "    }\n",
       "</style>\n",
       "<table border=\"1\" class=\"dataframe\">\n",
       "  <thead>\n",
       "    <tr style=\"text-align: right;\">\n",
       "      <th></th>\n",
       "      <th>displacement</th>\n",
       "      <th>horsepower</th>\n",
       "      <th>weight</th>\n",
       "      <th>acceleration</th>\n",
       "      <th>cylinders</th>\n",
       "      <th>year</th>\n",
       "      <th>x0_ASIA</th>\n",
       "      <th>x0_USA</th>\n",
       "      <th>mpg</th>\n",
       "    </tr>\n",
       "  </thead>\n",
       "  <tbody>\n",
       "    <tr>\n",
       "      <td>0</td>\n",
       "      <td>1.090196</td>\n",
       "      <td>1.266232</td>\n",
       "      <td>0.552826</td>\n",
       "      <td>-1.319334</td>\n",
       "      <td>1.527188</td>\n",
       "      <td>-1.696667</td>\n",
       "      <td>0.0</td>\n",
       "      <td>1.0</td>\n",
       "      <td>16.0</td>\n",
       "    </tr>\n",
       "    <tr>\n",
       "      <td>1</td>\n",
       "      <td>-0.922996</td>\n",
       "      <td>-0.407925</td>\n",
       "      <td>-0.999667</td>\n",
       "      <td>-0.413182</td>\n",
       "      <td>-0.850515</td>\n",
       "      <td>-1.696667</td>\n",
       "      <td>1.0</td>\n",
       "      <td>0.0</td>\n",
       "      <td>27.0</td>\n",
       "    </tr>\n",
       "    <tr>\n",
       "      <td>2</td>\n",
       "      <td>-0.981350</td>\n",
       "      <td>-0.947975</td>\n",
       "      <td>-1.124772</td>\n",
       "      <td>0.927922</td>\n",
       "      <td>-0.850515</td>\n",
       "      <td>1.638975</td>\n",
       "      <td>1.0</td>\n",
       "      <td>0.0</td>\n",
       "      <td>37.0</td>\n",
       "    </tr>\n",
       "    <tr>\n",
       "      <td>3</td>\n",
       "      <td>-0.981350</td>\n",
       "      <td>-1.163996</td>\n",
       "      <td>-1.392854</td>\n",
       "      <td>0.275493</td>\n",
       "      <td>-0.850515</td>\n",
       "      <td>0.527094</td>\n",
       "      <td>1.0</td>\n",
       "      <td>0.0</td>\n",
       "      <td>36.1</td>\n",
       "    </tr>\n",
       "    <tr>\n",
       "      <td>4</td>\n",
       "      <td>-0.747936</td>\n",
       "      <td>-0.218907</td>\n",
       "      <td>-0.327675</td>\n",
       "      <td>-0.231952</td>\n",
       "      <td>-0.850515</td>\n",
       "      <td>-0.306816</td>\n",
       "      <td>0.0</td>\n",
       "      <td>0.0</td>\n",
       "      <td>23.0</td>\n",
       "    </tr>\n",
       "  </tbody>\n",
       "</table>\n",
       "</div>"
      ],
      "text/plain": [
       "   displacement  horsepower    weight  acceleration  cylinders      year  \\\n",
       "0      1.090196    1.266232  0.552826     -1.319334   1.527188 -1.696667   \n",
       "1     -0.922996   -0.407925 -0.999667     -0.413182  -0.850515 -1.696667   \n",
       "2     -0.981350   -0.947975 -1.124772      0.927922  -0.850515  1.638975   \n",
       "3     -0.981350   -1.163996 -1.392854      0.275493  -0.850515  0.527094   \n",
       "4     -0.747936   -0.218907 -0.327675     -0.231952  -0.850515 -0.306816   \n",
       "\n",
       "   x0_ASIA  x0_USA   mpg  \n",
       "0      0.0     1.0  16.0  \n",
       "1      1.0     0.0  27.0  \n",
       "2      1.0     0.0  37.0  \n",
       "3      1.0     0.0  36.1  \n",
       "4      0.0     0.0  23.0  "
      ]
     },
     "execution_count": 5,
     "metadata": {},
     "output_type": "execute_result"
    },
    {
     "data": {
      "application/javascript": [
       "\n",
       "            setTimeout(function() {\n",
       "                var nbb_cell_id = 5;\n",
       "                var nbb_formatted_code = \"df_train.head()\";\n",
       "                var nbb_cells = Jupyter.notebook.get_cells();\n",
       "                for (var i = 0; i < nbb_cells.length; ++i) {\n",
       "                    if (nbb_cells[i].input_prompt_number == nbb_cell_id) {\n",
       "                        nbb_cells[i].set_text(nbb_formatted_code);\n",
       "                        break;\n",
       "                    }\n",
       "                }\n",
       "            }, 500);\n",
       "            "
      ],
      "text/plain": [
       "<IPython.core.display.Javascript object>"
      ]
     },
     "metadata": {},
     "output_type": "display_data"
    }
   ],
   "source": [
    "df_train.head()"
   ]
  },
  {
   "cell_type": "code",
   "execution_count": 6,
   "metadata": {},
   "outputs": [
    {
     "name": "stdout",
     "output_type": "stream",
     "text": [
      "<class 'pandas.core.frame.DataFrame'>\n",
      "RangeIndex: 318 entries, 0 to 317\n",
      "Data columns (total 9 columns):\n",
      "displacement    318 non-null float64\n",
      "horsepower      318 non-null float64\n",
      "weight          318 non-null float64\n",
      "acceleration    318 non-null float64\n",
      "cylinders       318 non-null float64\n",
      "year            318 non-null float64\n",
      "x0_ASIA         318 non-null float64\n",
      "x0_USA          318 non-null float64\n",
      "mpg             318 non-null float64\n",
      "dtypes: float64(9)\n",
      "memory usage: 22.5 KB\n"
     ]
    },
    {
     "data": {
      "application/javascript": [
       "\n",
       "            setTimeout(function() {\n",
       "                var nbb_cell_id = 6;\n",
       "                var nbb_formatted_code = \"df_train.info()\";\n",
       "                var nbb_cells = Jupyter.notebook.get_cells();\n",
       "                for (var i = 0; i < nbb_cells.length; ++i) {\n",
       "                    if (nbb_cells[i].input_prompt_number == nbb_cell_id) {\n",
       "                        nbb_cells[i].set_text(nbb_formatted_code);\n",
       "                        break;\n",
       "                    }\n",
       "                }\n",
       "            }, 500);\n",
       "            "
      ],
      "text/plain": [
       "<IPython.core.display.Javascript object>"
      ]
     },
     "metadata": {},
     "output_type": "display_data"
    }
   ],
   "source": [
    "df_train.info()"
   ]
  },
  {
   "cell_type": "code",
   "execution_count": 7,
   "metadata": {},
   "outputs": [
    {
     "data": {
      "text/plain": [
       "(318, 9)"
      ]
     },
     "execution_count": 7,
     "metadata": {},
     "output_type": "execute_result"
    },
    {
     "data": {
      "application/javascript": [
       "\n",
       "            setTimeout(function() {\n",
       "                var nbb_cell_id = 7;\n",
       "                var nbb_formatted_code = \"df_train.shape\";\n",
       "                var nbb_cells = Jupyter.notebook.get_cells();\n",
       "                for (var i = 0; i < nbb_cells.length; ++i) {\n",
       "                    if (nbb_cells[i].input_prompt_number == nbb_cell_id) {\n",
       "                        nbb_cells[i].set_text(nbb_formatted_code);\n",
       "                        break;\n",
       "                    }\n",
       "                }\n",
       "            }, 500);\n",
       "            "
      ],
      "text/plain": [
       "<IPython.core.display.Javascript object>"
      ]
     },
     "metadata": {},
     "output_type": "display_data"
    }
   ],
   "source": [
    "df_train.shape"
   ]
  },
  {
   "cell_type": "markdown",
   "metadata": {},
   "source": [
    "#### Check test set"
   ]
  },
  {
   "cell_type": "code",
   "execution_count": 8,
   "metadata": {},
   "outputs": [
    {
     "data": {
      "text/html": [
       "<div>\n",
       "<style scoped>\n",
       "    .dataframe tbody tr th:only-of-type {\n",
       "        vertical-align: middle;\n",
       "    }\n",
       "\n",
       "    .dataframe tbody tr th {\n",
       "        vertical-align: top;\n",
       "    }\n",
       "\n",
       "    .dataframe thead th {\n",
       "        text-align: right;\n",
       "    }\n",
       "</style>\n",
       "<table border=\"1\" class=\"dataframe\">\n",
       "  <thead>\n",
       "    <tr style=\"text-align: right;\">\n",
       "      <th></th>\n",
       "      <th>displacement</th>\n",
       "      <th>horsepower</th>\n",
       "      <th>weight</th>\n",
       "      <th>acceleration</th>\n",
       "      <th>cylinders</th>\n",
       "      <th>year</th>\n",
       "      <th>x0_ASIA</th>\n",
       "      <th>x0_USA</th>\n",
       "      <th>mpg</th>\n",
       "    </tr>\n",
       "  </thead>\n",
       "  <tbody>\n",
       "    <tr>\n",
       "      <td>0</td>\n",
       "      <td>-0.981350</td>\n",
       "      <td>-1.353013</td>\n",
       "      <td>-1.398812</td>\n",
       "      <td>0.637953</td>\n",
       "      <td>-0.850515</td>\n",
       "      <td>-0.028846</td>\n",
       "      <td>1.0</td>\n",
       "      <td>0.0</td>\n",
       "      <td>33.0</td>\n",
       "    </tr>\n",
       "    <tr>\n",
       "      <td>1</td>\n",
       "      <td>-0.699308</td>\n",
       "      <td>-0.650948</td>\n",
       "      <td>-0.409887</td>\n",
       "      <td>1.072906</td>\n",
       "      <td>-0.850515</td>\n",
       "      <td>1.638975</td>\n",
       "      <td>0.0</td>\n",
       "      <td>1.0</td>\n",
       "      <td>28.0</td>\n",
       "    </tr>\n",
       "    <tr>\n",
       "      <td>2</td>\n",
       "      <td>0.389956</td>\n",
       "      <td>-0.083895</td>\n",
       "      <td>-0.399163</td>\n",
       "      <td>-0.956873</td>\n",
       "      <td>0.338337</td>\n",
       "      <td>-1.418697</td>\n",
       "      <td>0.0</td>\n",
       "      <td>1.0</td>\n",
       "      <td>19.0</td>\n",
       "    </tr>\n",
       "    <tr>\n",
       "      <td>3</td>\n",
       "      <td>1.226354</td>\n",
       "      <td>1.266232</td>\n",
       "      <td>1.156905</td>\n",
       "      <td>-0.884381</td>\n",
       "      <td>1.527188</td>\n",
       "      <td>-0.028846</td>\n",
       "      <td>0.0</td>\n",
       "      <td>1.0</td>\n",
       "      <td>13.0</td>\n",
       "    </tr>\n",
       "    <tr>\n",
       "      <td>4</td>\n",
       "      <td>1.226354</td>\n",
       "      <td>1.266232</td>\n",
       "      <td>1.510773</td>\n",
       "      <td>-0.413182</td>\n",
       "      <td>1.527188</td>\n",
       "      <td>-0.862757</td>\n",
       "      <td>0.0</td>\n",
       "      <td>1.0</td>\n",
       "      <td>14.0</td>\n",
       "    </tr>\n",
       "  </tbody>\n",
       "</table>\n",
       "</div>"
      ],
      "text/plain": [
       "   displacement  horsepower    weight  acceleration  cylinders      year  \\\n",
       "0     -0.981350   -1.353013 -1.398812      0.637953  -0.850515 -0.028846   \n",
       "1     -0.699308   -0.650948 -0.409887      1.072906  -0.850515  1.638975   \n",
       "2      0.389956   -0.083895 -0.399163     -0.956873   0.338337 -1.418697   \n",
       "3      1.226354    1.266232  1.156905     -0.884381   1.527188 -0.028846   \n",
       "4      1.226354    1.266232  1.510773     -0.413182   1.527188 -0.862757   \n",
       "\n",
       "   x0_ASIA  x0_USA   mpg  \n",
       "0      1.0     0.0  33.0  \n",
       "1      0.0     1.0  28.0  \n",
       "2      0.0     1.0  19.0  \n",
       "3      0.0     1.0  13.0  \n",
       "4      0.0     1.0  14.0  "
      ]
     },
     "execution_count": 8,
     "metadata": {},
     "output_type": "execute_result"
    },
    {
     "data": {
      "application/javascript": [
       "\n",
       "            setTimeout(function() {\n",
       "                var nbb_cell_id = 8;\n",
       "                var nbb_formatted_code = \"df_test.head()\";\n",
       "                var nbb_cells = Jupyter.notebook.get_cells();\n",
       "                for (var i = 0; i < nbb_cells.length; ++i) {\n",
       "                    if (nbb_cells[i].input_prompt_number == nbb_cell_id) {\n",
       "                        nbb_cells[i].set_text(nbb_formatted_code);\n",
       "                        break;\n",
       "                    }\n",
       "                }\n",
       "            }, 500);\n",
       "            "
      ],
      "text/plain": [
       "<IPython.core.display.Javascript object>"
      ]
     },
     "metadata": {},
     "output_type": "display_data"
    }
   ],
   "source": [
    "df_test.head()"
   ]
  },
  {
   "cell_type": "code",
   "execution_count": 9,
   "metadata": {},
   "outputs": [
    {
     "name": "stdout",
     "output_type": "stream",
     "text": [
      "<class 'pandas.core.frame.DataFrame'>\n",
      "RangeIndex: 80 entries, 0 to 79\n",
      "Data columns (total 9 columns):\n",
      "displacement    80 non-null float64\n",
      "horsepower      80 non-null float64\n",
      "weight          80 non-null float64\n",
      "acceleration    80 non-null float64\n",
      "cylinders       80 non-null float64\n",
      "year            80 non-null float64\n",
      "x0_ASIA         80 non-null float64\n",
      "x0_USA          80 non-null float64\n",
      "mpg             80 non-null float64\n",
      "dtypes: float64(9)\n",
      "memory usage: 5.8 KB\n"
     ]
    },
    {
     "data": {
      "application/javascript": [
       "\n",
       "            setTimeout(function() {\n",
       "                var nbb_cell_id = 9;\n",
       "                var nbb_formatted_code = \"df_test.info()\";\n",
       "                var nbb_cells = Jupyter.notebook.get_cells();\n",
       "                for (var i = 0; i < nbb_cells.length; ++i) {\n",
       "                    if (nbb_cells[i].input_prompt_number == nbb_cell_id) {\n",
       "                        nbb_cells[i].set_text(nbb_formatted_code);\n",
       "                        break;\n",
       "                    }\n",
       "                }\n",
       "            }, 500);\n",
       "            "
      ],
      "text/plain": [
       "<IPython.core.display.Javascript object>"
      ]
     },
     "metadata": {},
     "output_type": "display_data"
    }
   ],
   "source": [
    "df_test.info()"
   ]
  },
  {
   "cell_type": "code",
   "execution_count": 10,
   "metadata": {},
   "outputs": [
    {
     "data": {
      "text/plain": [
       "(80, 9)"
      ]
     },
     "execution_count": 10,
     "metadata": {},
     "output_type": "execute_result"
    },
    {
     "data": {
      "application/javascript": [
       "\n",
       "            setTimeout(function() {\n",
       "                var nbb_cell_id = 10;\n",
       "                var nbb_formatted_code = \"df_test.shape\";\n",
       "                var nbb_cells = Jupyter.notebook.get_cells();\n",
       "                for (var i = 0; i < nbb_cells.length; ++i) {\n",
       "                    if (nbb_cells[i].input_prompt_number == nbb_cell_id) {\n",
       "                        nbb_cells[i].set_text(nbb_formatted_code);\n",
       "                        break;\n",
       "                    }\n",
       "                }\n",
       "            }, 500);\n",
       "            "
      ],
      "text/plain": [
       "<IPython.core.display.Javascript object>"
      ]
     },
     "metadata": {},
     "output_type": "display_data"
    }
   ],
   "source": [
    "df_test.shape"
   ]
  },
  {
   "cell_type": "markdown",
   "metadata": {},
   "source": [
    "Next, we move this code to the module `feature_engineering.py` in the source folder.  "
   ]
  }
 ],
 "metadata": {
  "file_extension": ".py",
  "kernelspec": {
   "display_name": "Python 3",
   "language": "python",
   "name": "python3"
  },
  "language_info": {
   "codemirror_mode": {
    "name": "ipython",
    "version": 3
   },
   "file_extension": ".py",
   "mimetype": "text/x-python",
   "name": "python",
   "nbconvert_exporter": "python",
   "pygments_lexer": "ipython3",
   "version": "3.6.9"
  },
  "mimetype": "text/x-python",
  "name": "python",
  "npconvert_exporter": "python",
  "pygments_lexer": "ipython3",
  "version": 3
 },
 "nbformat": 4,
 "nbformat_minor": 2
}
