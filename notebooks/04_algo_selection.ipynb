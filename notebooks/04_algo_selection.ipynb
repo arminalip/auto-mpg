{
 "cells": [
  {
   "cell_type": "markdown",
   "metadata": {},
   "source": [
    "EDA shows that some features present high colinearity. Highly colinear features can affect the stability of linear models.\n",
    "We will use Lasso Regression because it automatically eleminates unecessary features and Random Forest because it is robust to features colinearity.\n",
    "\n",
    "Another option we could explore to address features colinearity is:\n",
    "- PCA\n",
    "- Feature selection (eleminating features that don't improve evaluation scores)\n",
    "\n",
    "We will use Root Mean Squarred Error  and R-squarred metric for model evaluation."
   ]
  },
  {
   "cell_type": "code",
   "execution_count": 9,
   "metadata": {},
   "outputs": [],
   "source": [
    "import os\n",
    "import pandas as pd\n",
    "import numpy as np\n",
    "import matplotlib.pyplot as plt\n",
    "plt.style.use('classic')\n",
    "%matplotlib inline\n",
    "import seaborn as sns\n",
    "sns.set_style('whitegrid')\n",
    "sns.set(rc={'figure.figsize':(8,5)})\n",
    "from sklearn.model_selection import train_test_split\n",
    "# for nice dark theme in Jupyter Notebooks\n",
    "from jupyterthemes import jtplot\n",
    "jtplot.style(theme='monokai', context='notebook', ticks=True, grid=False)\n",
    "import warnings\n",
    "warnings.filterwarnings('once')\n",
    "\n",
    "from sklearn.linear_model import LassoCV\n",
    "from sklearn.ensemble import RandomForestRegressor\n",
    "from sklearn.model_selection import train_test_split, cross_validate, GridSearchCV\n",
    "from sklearn.dummy import DummyRegressor\n",
    "from sklearn.metrics import r2_score, make_scorer, mean_squared_error\n",
    "\n",
    "from src.features.build_features import make_final_train_set\n",
    "from src.models.algo_selection import get_df_errors"
   ]
  },
  {
   "cell_type": "code",
   "execution_count": 3,
   "metadata": {},
   "outputs": [],
   "source": [
    "%load_ext autoreload\n",
    "%autoreload 2"
   ]
  },
  {
   "cell_type": "code",
   "execution_count": 6,
   "metadata": {},
   "outputs": [
    {
     "name": "stderr",
     "output_type": "stream",
     "text": [
      "/Users/Corentin/anaconda3/envs/auto-mpg/lib/python3.6/site-packages/sklearn/utils/validation.py:595: DataConversionWarning: Data with input dtype int64 was converted to float64 by StandardScaler.\n",
      "  warnings.warn(msg, DataConversionWarning)\n",
      "/Users/Corentin/anaconda3/envs/auto-mpg/lib/python3.6/site-packages/sklearn/utils/validation.py:595: DataConversionWarning: Data with input dtype int64 was converted to float64 by StandardScaler.\n",
      "  warnings.warn(msg, DataConversionWarning)\n"
     ]
    }
   ],
   "source": [
    "# Get the data\n",
    "column_names, full_pipeline, df_train = make_final_train_set()\n",
    "X_train = df_train.drop('mpg', axis=1)\n",
    "y_train = df_train['mpg']"
   ]
  },
  {
   "cell_type": "markdown",
   "metadata": {},
   "source": [
    "## Algorithm selection "
   ]
  },
  {
   "cell_type": "markdown",
   "metadata": {},
   "source": [
    "### Lasso Regression "
   ]
  },
  {
   "cell_type": "code",
   "execution_count": 7,
   "metadata": {},
   "outputs": [
    {
     "data": {
      "text/html": [
       "<div>\n",
       "<style scoped>\n",
       "    .dataframe tbody tr th:only-of-type {\n",
       "        vertical-align: middle;\n",
       "    }\n",
       "\n",
       "    .dataframe tbody tr th {\n",
       "        vertical-align: top;\n",
       "    }\n",
       "\n",
       "    .dataframe thead th {\n",
       "        text-align: right;\n",
       "    }\n",
       "</style>\n",
       "<table border=\"1\" class=\"dataframe\">\n",
       "  <thead>\n",
       "    <tr style=\"text-align: right;\">\n",
       "      <th></th>\n",
       "      <th>rmse</th>\n",
       "      <th>rmse_std</th>\n",
       "      <th>r2</th>\n",
       "      <th>r2_std</th>\n",
       "    </tr>\n",
       "  </thead>\n",
       "  <tbody>\n",
       "    <tr>\n",
       "      <th>train</th>\n",
       "      <td>3.388</td>\n",
       "      <td>0.039</td>\n",
       "      <td>0.817</td>\n",
       "      <td>0.003</td>\n",
       "    </tr>\n",
       "    <tr>\n",
       "      <th>test</th>\n",
       "      <td>3.463</td>\n",
       "      <td>0.397</td>\n",
       "      <td>0.800</td>\n",
       "      <td>0.032</td>\n",
       "    </tr>\n",
       "  </tbody>\n",
       "</table>\n",
       "</div>"
      ],
      "text/plain": [
       "        rmse  rmse_std     r2  r2_std\n",
       "train  3.388     0.039  0.817   0.003\n",
       "test   3.463     0.397  0.800   0.032"
      ]
     },
     "execution_count": 7,
     "metadata": {},
     "output_type": "execute_result"
    }
   ],
   "source": [
    "mse_scorer = make_scorer(mean_squared_error)\n",
    "r2_scorer = make_scorer(r2_score)\n",
    "\n",
    "alphas = [0.01 * i for i in range(1, 11)]\n",
    "lasso_cv = LassoCV(alphas=alphas, cv=10, random_state=42)\n",
    "\n",
    "lasso_cv_results = cross_validate(lasso_cv, X_train, y_train, \n",
    "                                  cv=10,\n",
    "                                  return_estimator=True, \n",
    "                                  return_train_score=True,\n",
    "                                  scoring={'mse' : mse_scorer, 'r2' : r2_scorer},\n",
    "                                  )\n",
    "get_df_errors(lasso_cv_results)"
   ]
  },
  {
   "cell_type": "markdown",
   "metadata": {},
   "source": [
    "#####  Lasso params stabilty"
   ]
  },
  {
   "cell_type": "code",
   "execution_count": 10,
   "metadata": {},
   "outputs": [
    {
     "data": {
      "image/png": "[encoded data removed]",
      "text/plain": [
       "<Figure size 576x504 with 1 Axes>"
      ]
     },
     "metadata": {},
     "output_type": "display_data"
    }
   ],
   "source": [
    "alphas = [model.alpha_ for model in lasso_cv_results['estimator']]\n",
    "plt.hist(alphas)\n",
    "sns.despine()\n",
    "plt.xlabel('alpha')\n",
    "plt.show()"
   ]
  },
  {
   "cell_type": "code",
   "execution_count": 11,
   "metadata": {},
   "outputs": [
    {
     "name": "stdout",
     "output_type": "stream",
     "text": [
      "alphas mean: 0.052\n",
      "alphas std: 0.025\n"
     ]
    }
   ],
   "source": [
    "print('alphas mean:', np.mean(alphas).round(3))\n",
    "print('alphas std:', np.std(alphas).round(3))"
   ]
  },
  {
   "cell_type": "code",
   "execution_count": 12,
   "metadata": {},
   "outputs": [
    {
     "data": {
      "text/html": [
       "<div>\n",
       "<style scoped>\n",
       "    .dataframe tbody tr th:only-of-type {\n",
       "        vertical-align: middle;\n",
       "    }\n",
       "\n",
       "    .dataframe tbody tr th {\n",
       "        vertical-align: top;\n",
       "    }\n",
       "\n",
       "    .dataframe thead th {\n",
       "        text-align: right;\n",
       "    }\n",
       "</style>\n",
       "<table border=\"1\" class=\"dataframe\">\n",
       "  <thead>\n",
       "    <tr style=\"text-align: right;\">\n",
       "      <th></th>\n",
       "      <th>displacement</th>\n",
       "      <th>horsepower</th>\n",
       "      <th>weight</th>\n",
       "      <th>acceleration</th>\n",
       "      <th>cylinders</th>\n",
       "      <th>year</th>\n",
       "      <th>x0_ASIA</th>\n",
       "      <th>x0_USA</th>\n",
       "    </tr>\n",
       "  </thead>\n",
       "  <tbody>\n",
       "    <tr>\n",
       "      <th>0</th>\n",
       "      <td>0.000000</td>\n",
       "      <td>-0.227314</td>\n",
       "      <td>-4.824746</td>\n",
       "      <td>0.044674</td>\n",
       "      <td>0.000000</td>\n",
       "      <td>2.778478</td>\n",
       "      <td>0.00000</td>\n",
       "      <td>-2.173359</td>\n",
       "    </tr>\n",
       "    <tr>\n",
       "      <th>1</th>\n",
       "      <td>0.752941</td>\n",
       "      <td>-0.226636</td>\n",
       "      <td>-5.334845</td>\n",
       "      <td>0.152414</td>\n",
       "      <td>0.000000</td>\n",
       "      <td>2.898813</td>\n",
       "      <td>-0.00000</td>\n",
       "      <td>-2.249094</td>\n",
       "    </tr>\n",
       "    <tr>\n",
       "      <th>2</th>\n",
       "      <td>0.000000</td>\n",
       "      <td>-0.190502</td>\n",
       "      <td>-4.904144</td>\n",
       "      <td>0.000000</td>\n",
       "      <td>0.000000</td>\n",
       "      <td>2.773428</td>\n",
       "      <td>0.00000</td>\n",
       "      <td>-2.124895</td>\n",
       "    </tr>\n",
       "    <tr>\n",
       "      <th>3</th>\n",
       "      <td>0.945262</td>\n",
       "      <td>-0.345464</td>\n",
       "      <td>-5.525247</td>\n",
       "      <td>0.065025</td>\n",
       "      <td>-0.000000</td>\n",
       "      <td>2.903835</td>\n",
       "      <td>0.00000</td>\n",
       "      <td>-2.130423</td>\n",
       "    </tr>\n",
       "    <tr>\n",
       "      <th>4</th>\n",
       "      <td>1.637823</td>\n",
       "      <td>-0.658986</td>\n",
       "      <td>-5.559828</td>\n",
       "      <td>0.182798</td>\n",
       "      <td>-0.282363</td>\n",
       "      <td>2.876234</td>\n",
       "      <td>-0.05707</td>\n",
       "      <td>-2.486381</td>\n",
       "    </tr>\n",
       "    <tr>\n",
       "      <th>5</th>\n",
       "      <td>0.000000</td>\n",
       "      <td>-0.123614</td>\n",
       "      <td>-5.070797</td>\n",
       "      <td>0.000000</td>\n",
       "      <td>0.000000</td>\n",
       "      <td>2.849451</td>\n",
       "      <td>-0.00000</td>\n",
       "      <td>-1.416299</td>\n",
       "    </tr>\n",
       "    <tr>\n",
       "      <th>6</th>\n",
       "      <td>0.000000</td>\n",
       "      <td>-0.137964</td>\n",
       "      <td>-4.955586</td>\n",
       "      <td>0.000000</td>\n",
       "      <td>0.000000</td>\n",
       "      <td>2.790494</td>\n",
       "      <td>0.00000</td>\n",
       "      <td>-1.702885</td>\n",
       "    </tr>\n",
       "    <tr>\n",
       "      <th>7</th>\n",
       "      <td>0.000000</td>\n",
       "      <td>-0.320430</td>\n",
       "      <td>-4.851979</td>\n",
       "      <td>0.000000</td>\n",
       "      <td>0.000000</td>\n",
       "      <td>2.831258</td>\n",
       "      <td>0.00000</td>\n",
       "      <td>-1.774325</td>\n",
       "    </tr>\n",
       "    <tr>\n",
       "      <th>8</th>\n",
       "      <td>1.605187</td>\n",
       "      <td>-0.000000</td>\n",
       "      <td>-6.204168</td>\n",
       "      <td>0.237987</td>\n",
       "      <td>0.000000</td>\n",
       "      <td>3.038612</td>\n",
       "      <td>0.00000</td>\n",
       "      <td>-2.481290</td>\n",
       "    </tr>\n",
       "    <tr>\n",
       "      <th>9</th>\n",
       "      <td>1.044197</td>\n",
       "      <td>-0.475809</td>\n",
       "      <td>-5.323890</td>\n",
       "      <td>0.083855</td>\n",
       "      <td>-0.000000</td>\n",
       "      <td>2.824131</td>\n",
       "      <td>0.00000</td>\n",
       "      <td>-2.683538</td>\n",
       "    </tr>\n",
       "  </tbody>\n",
       "</table>\n",
       "</div>"
      ],
      "text/plain": [
       "   displacement  horsepower    weight  acceleration  cylinders      year  \\\n",
       "0      0.000000   -0.227314 -4.824746      0.044674   0.000000  2.778478   \n",
       "1      0.752941   -0.226636 -5.334845      0.152414   0.000000  2.898813   \n",
       "2      0.000000   -0.190502 -4.904144      0.000000   0.000000  2.773428   \n",
       "3      0.945262   -0.345464 -5.525247      0.065025  -0.000000  2.903835   \n",
       "4      1.637823   -0.658986 -5.559828      0.182798  -0.282363  2.876234   \n",
       "5      0.000000   -0.123614 -5.070797      0.000000   0.000000  2.849451   \n",
       "6      0.000000   -0.137964 -4.955586      0.000000   0.000000  2.790494   \n",
       "7      0.000000   -0.320430 -4.851979      0.000000   0.000000  2.831258   \n",
       "8      1.605187   -0.000000 -6.204168      0.237987   0.000000  3.038612   \n",
       "9      1.044197   -0.475809 -5.323890      0.083855  -0.000000  2.824131   \n",
       "\n",
       "   x0_ASIA    x0_USA  \n",
       "0  0.00000 -2.173359  \n",
       "1 -0.00000 -2.249094  \n",
       "2  0.00000 -2.124895  \n",
       "3  0.00000 -2.130423  \n",
       "4 -0.05707 -2.486381  \n",
       "5 -0.00000 -1.416299  \n",
       "6  0.00000 -1.702885  \n",
       "7  0.00000 -1.774325  \n",
       "8  0.00000 -2.481290  \n",
       "9  0.00000 -2.683538  "
      ]
     },
     "execution_count": 12,
     "metadata": {},
     "output_type": "execute_result"
    }
   ],
   "source": [
    "params = [model.coef_ for model in lasso_cv_results['estimator']]\n",
    "df_lasso_cv_params = pd.DataFrame(np.stack(params), columns=X_train.columns)\n",
    "df_lasso_cv_params"
   ]
  },
  {
   "cell_type": "code",
   "execution_count": 13,
   "metadata": {},
   "outputs": [
    {
     "data": {
      "text/html": [
       "<div>\n",
       "<style scoped>\n",
       "    .dataframe tbody tr th:only-of-type {\n",
       "        vertical-align: middle;\n",
       "    }\n",
       "\n",
       "    .dataframe tbody tr th {\n",
       "        vertical-align: top;\n",
       "    }\n",
       "\n",
       "    .dataframe thead th {\n",
       "        text-align: right;\n",
       "    }\n",
       "</style>\n",
       "<table border=\"1\" class=\"dataframe\">\n",
       "  <thead>\n",
       "    <tr style=\"text-align: right;\">\n",
       "      <th></th>\n",
       "      <th>displacement</th>\n",
       "      <th>horsepower</th>\n",
       "      <th>weight</th>\n",
       "      <th>acceleration</th>\n",
       "      <th>cylinders</th>\n",
       "      <th>year</th>\n",
       "      <th>x0_ASIA</th>\n",
       "      <th>x0_USA</th>\n",
       "    </tr>\n",
       "  </thead>\n",
       "  <tbody>\n",
       "    <tr>\n",
       "      <th>mean</th>\n",
       "      <td>0.598541</td>\n",
       "      <td>-0.270672</td>\n",
       "      <td>-5.255523</td>\n",
       "      <td>0.076675</td>\n",
       "      <td>-0.028236</td>\n",
       "      <td>2.856473</td>\n",
       "      <td>-0.005707</td>\n",
       "      <td>-2.122249</td>\n",
       "    </tr>\n",
       "    <tr>\n",
       "      <th>std</th>\n",
       "      <td>0.685352</td>\n",
       "      <td>0.189645</td>\n",
       "      <td>0.431047</td>\n",
       "      <td>0.086761</td>\n",
       "      <td>0.089291</td>\n",
       "      <td>0.079348</td>\n",
       "      <td>0.018047</td>\n",
       "      <td>0.393080</td>\n",
       "    </tr>\n",
       "  </tbody>\n",
       "</table>\n",
       "</div>"
      ],
      "text/plain": [
       "      displacement  horsepower    weight  acceleration  cylinders      year  \\\n",
       "mean      0.598541   -0.270672 -5.255523      0.076675  -0.028236  2.856473   \n",
       "std       0.685352    0.189645  0.431047      0.086761   0.089291  0.079348   \n",
       "\n",
       "       x0_ASIA    x0_USA  \n",
       "mean -0.005707 -2.122249  \n",
       "std   0.018047  0.393080  "
      ]
     },
     "execution_count": 13,
     "metadata": {},
     "output_type": "execute_result"
    }
   ],
   "source": [
    "df_lasso_cv_params.describe().loc[['mean', 'std'], :]"
   ]
  },
  {
   "cell_type": "markdown",
   "metadata": {},
   "source": [
    "Lasso coefficients varies with the training example. The Lasso model seems instable accross teh different training samples.\n",
    "Tibshirani identified the conditions for Lasso \"uniqueness\" in this 2013 paper [[1]](https://projecteuclid.org/download/pdfview_1/euclid.ejs/1369148600).\n",
    "One of these conditions is continuous features. Cylinders, Year and Region are categorical.\n",
    "Usefull papers to read about Lasso model unstability:\n",
    "- [Sparse Algorithms are not Stable](http://users.ece.utexas.edu/~cmcaram/pubs/XuCaramanisMannor.NFL.pdf)\n",
    "- [The lasso problem and uniqueness](https://projecteuclid.org/download/pdfview_1/euclid.ejs/1369148600)\n",
    "- [Stack overflow question and answers](https://stats.stackexchange.com/questions/365938/what-causes-lasso-to-be-unstable-for-feature-selection)\n"
   ]
  },
  {
   "cell_type": "markdown",
   "metadata": {},
   "source": [
    "### Random Forest "
   ]
  },
  {
   "cell_type": "code",
   "execution_count": 20,
   "metadata": {},
   "outputs": [
    {
     "data": {
      "text/html": [
       "<div>\n",
       "<style scoped>\n",
       "    .dataframe tbody tr th:only-of-type {\n",
       "        vertical-align: middle;\n",
       "    }\n",
       "\n",
       "    .dataframe tbody tr th {\n",
       "        vertical-align: top;\n",
       "    }\n",
       "\n",
       "    .dataframe thead th {\n",
       "        text-align: right;\n",
       "    }\n",
       "</style>\n",
       "<table border=\"1\" class=\"dataframe\">\n",
       "  <thead>\n",
       "    <tr style=\"text-align: right;\">\n",
       "      <th></th>\n",
       "      <th>rmse</th>\n",
       "      <th>rmse_std</th>\n",
       "      <th>r2</th>\n",
       "      <th>r2_std</th>\n",
       "    </tr>\n",
       "  </thead>\n",
       "  <tbody>\n",
       "    <tr>\n",
       "      <th>train</th>\n",
       "      <td>1.128</td>\n",
       "      <td>0.035</td>\n",
       "      <td>0.980</td>\n",
       "      <td>0.001</td>\n",
       "    </tr>\n",
       "    <tr>\n",
       "      <th>test</th>\n",
       "      <td>2.846</td>\n",
       "      <td>0.504</td>\n",
       "      <td>0.863</td>\n",
       "      <td>0.042</td>\n",
       "    </tr>\n",
       "  </tbody>\n",
       "</table>\n",
       "</div>"
      ],
      "text/plain": [
       "        rmse  rmse_std     r2  r2_std\n",
       "train  1.128     0.035  0.980   0.001\n",
       "test   2.846     0.504  0.863   0.042"
      ]
     },
     "execution_count": 20,
     "metadata": {},
     "output_type": "execute_result"
    }
   ],
   "source": [
    "param_grid = [{'n_estimators': [3, 10, 30], 'max_features': [2, 4, 6, 8]},\n",
    "             ]\n",
    "rf = RandomForestRegressor(random_state=42)\n",
    "\n",
    "rfcv = GridSearchCV(rf,\n",
    "                    param_grid,\n",
    "                    cv=10,\n",
    "                    return_train_score=True,\n",
    "                    n_jobs=-1)\n",
    "\n",
    "rfcv_results = cross_validate(rfcv, X_train, y_train, \n",
    "                              cv=10,\n",
    "                              return_estimator=True, \n",
    "                              return_train_score=True,\n",
    "                              n_jobs=-1,\n",
    "                              scoring={'mse': mse_scorer, 'r2': r2_scorer},\n",
    "                           )\n",
    "get_df_errors(rfcv_results)"
   ]
  },
  {
   "cell_type": "code",
   "execution_count": 15,
   "metadata": {},
   "outputs": [
    {
     "data": {
      "text/html": [
       "<div>\n",
       "<style scoped>\n",
       "    .dataframe tbody tr th:only-of-type {\n",
       "        vertical-align: middle;\n",
       "    }\n",
       "\n",
       "    .dataframe tbody tr th {\n",
       "        vertical-align: top;\n",
       "    }\n",
       "\n",
       "    .dataframe thead th {\n",
       "        text-align: right;\n",
       "    }\n",
       "</style>\n",
       "<table border=\"1\" class=\"dataframe\">\n",
       "  <thead>\n",
       "    <tr style=\"text-align: right;\">\n",
       "      <th></th>\n",
       "      <th>rmse</th>\n",
       "      <th>rmse_std</th>\n",
       "      <th>r2</th>\n",
       "      <th>r2_std</th>\n",
       "    </tr>\n",
       "  </thead>\n",
       "  <tbody>\n",
       "    <tr>\n",
       "      <th>train</th>\n",
       "      <td>3.388</td>\n",
       "      <td>0.039</td>\n",
       "      <td>0.817</td>\n",
       "      <td>0.003</td>\n",
       "    </tr>\n",
       "    <tr>\n",
       "      <th>test</th>\n",
       "      <td>3.463</td>\n",
       "      <td>0.397</td>\n",
       "      <td>0.800</td>\n",
       "      <td>0.032</td>\n",
       "    </tr>\n",
       "  </tbody>\n",
       "</table>\n",
       "</div>"
      ],
      "text/plain": [
       "        rmse  rmse_std     r2  r2_std\n",
       "train  3.388     0.039  0.817   0.003\n",
       "test   3.463     0.397  0.800   0.032"
      ]
     },
     "execution_count": 15,
     "metadata": {},
     "output_type": "execute_result"
    }
   ],
   "source": [
    "# Let's compare it with results from Lasso cv\n",
    "get_df_errors(lasso_cv_results)"
   ]
  },
  {
   "cell_type": "markdown",
   "metadata": {},
   "source": [
    "#####  RF params statbilty"
   ]
  },
  {
   "cell_type": "code",
   "execution_count": 22,
   "metadata": {},
   "outputs": [
    {
     "data": {
      "text/plain": [
       "[{'max_features': 2, 'n_estimators': 30},\n",
       " {'max_features': 6, 'n_estimators': 30},\n",
       " {'max_features': 6, 'n_estimators': 30},\n",
       " {'max_features': 6, 'n_estimators': 30},\n",
       " {'max_features': 2, 'n_estimators': 30},\n",
       " {'max_features': 2, 'n_estimators': 30},\n",
       " {'max_features': 2, 'n_estimators': 30},\n",
       " {'max_features': 2, 'n_estimators': 30},\n",
       " {'max_features': 2, 'n_estimators': 30},\n",
       " {'max_features': 4, 'n_estimators': 30}]"
      ]
     },
     "execution_count": 22,
     "metadata": {},
     "output_type": "execute_result"
    }
   ],
   "source": [
    "[model.best_params_ for model in rfcv_results['estimator']]"
   ]
  },
  {
   "cell_type": "code",
   "execution_count": 23,
   "metadata": {},
   "outputs": [
    {
     "data": {
      "image/png": "[encoded data removed]",
      "text/plain": [
       "<Figure size 576x504 with 1 Axes>"
      ]
     },
     "metadata": {},
     "output_type": "display_data"
    }
   ],
   "source": [
    "max_features = [model.best_params_['max_features'] for model in rfcv_results['estimator']]\n",
    "plt.hist(max_features)\n",
    "sns.despine()\n",
    "plt.xlabel('max_features')\n",
    "plt.show()"
   ]
  },
  {
   "cell_type": "markdown",
   "metadata": {},
   "source": [
    "#### Conclusion\n",
    "Random Forest cross-validated yields to better rmse and r2 scores on the test set compared to Lasso cross-validated.\n",
    "\n",
    "Random Forest is probably overfit the training set. Regularization might help with overfitting.\n",
    "\n",
    "There is a variablity in `max_features` parameter. The relatively small size of the training set might cause this instablity.\n",
    "\n",
    "Given these results, we will pick Random Forest algorithm. We won't use nested cross-validation but simple cross-validation to finetuning.  The model will access more instances to train on.\n"
   ]
  }
 ],
 "metadata": {
  "kernelspec": {
   "display_name": "Python 3",
   "language": "python",
   "name": "python3"
  },
  "language_info": {
   "codemirror_mode": {
    "name": "ipython",
    "version": 3
   },
   "file_extension": ".py",
   "mimetype": "text/x-python",
   "name": "python",
   "nbconvert_exporter": "python",
   "pygments_lexer": "ipython3",
   "version": "3.6.9"
  }
 },
 "nbformat": 4,
 "nbformat_minor": 2
}
